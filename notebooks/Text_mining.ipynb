{
 "cells": [
  {
   "cell_type": "markdown",
   "id": "1624eb34-845b-4ea5-837f-ab70b5877f09",
   "metadata": {},
   "source": [
    "# Partie text mining"
   ]
  },
  {
   "cell_type": "markdown",
   "id": "be1817e0-ec80-4d0d-9ae4-4157e1013df4",
   "metadata": {},
   "source": [
    "Dans le cadre de notre projet, nous avons choisi de réaliser une analyse de text mining sur un article tiré du site Boursier.com, intitulé \"Taux: 2016, l'année historique des taux négatifs\". Cet article traite de l'évolution des taux d'intérêt en 2016, une année marquée par l'implémentation de taux négatifs, un phénomène inédit dans l'histoire économique récente.\n",
    "\n",
    "L'objectif de cette analyse est d'extraire des informations pertinentes et de comprendre les tendances et les sentiments véhiculés dans le texte. Nous utiliserons différentes techniques de text mining, notamment le nettoyage de texte, la suppression des stopwords, la stemmatisation, et la vectorisation TF-IDF pour transformer le texte en une représentation numérique exploitable.\n",
    "\n",
    "L'article se trouve à l'adresse suivante : https://www.boursier.com/actualites/macroeconomie/taux-2016-l-annee-historique-des-taux-negatifs-711714.html"
   ]
  },
  {
   "cell_type": "markdown",
   "id": "503e5aaf-bba5-43ec-9a83-607535b494af",
   "metadata": {},
   "source": [
    "### Importation des librairies nécessaires"
   ]
  },
  {
   "cell_type": "code",
   "execution_count": 40,
   "id": "b248d544-f03e-4b0e-8101-07be8c3709b3",
   "metadata": {},
   "outputs": [],
   "source": [
    "import pandas as pd\n",
    "from unidecode import unidecode\n",
    "import re\n",
    "from nltk.stem import SnowballStemmer\n",
    "import string\n",
    "from collections import Counter\n",
    "import plotly.express as px\n",
    "from nltk.stem import SnowballStemmer\n",
    "import matplotlib.pyplot as plt\n",
    "from sklearn.feature_extraction.text import CountVectorizer\n",
    "from sklearn.feature_extraction.text import TfidfVectorizer\n",
    "import nltk\n",
    "from collections import defaultdict\n",
    "from wordcloud import WordCloud\n",
    "import streamlit as st\n",
    "import warnings\n"
   ]
  },
  {
   "cell_type": "code",
   "execution_count": 41,
   "id": "4fbf763e",
   "metadata": {},
   "outputs": [],
   "source": [
    "warnings.filterwarnings(\"ignore\", category=UserWarning)\n"
   ]
  },
  {
   "cell_type": "markdown",
   "id": "39dc19ee-ac66-4d8c-9f53-564557b886b5",
   "metadata": {},
   "source": [
    "### Création de la base de donnée"
   ]
  },
  {
   "cell_type": "code",
   "execution_count": 42,
   "id": "58fb771a-09ed-4a54-8639-94e99c786697",
   "metadata": {},
   "outputs": [],
   "source": [
    "#Contenu de l'article\n",
    "article_content = \"\"\"\n",
    "Sur les marchés de taux d'intérêt, l'année 2016 restera marquée d'une pierre blanche comme celle où les taux d'intérêts servis par les obligations sont tombés massivement en terrain négatif, un événement unique dans l'histoire par son ampleur.\n",
    "Ainsi, le montant des obligations servant des taux négatifs dépassait en cette fin d'année les 10.000 milliards de dollars dans le monde, après avoir atteint plus de 13.000 milliards en cours d'année.\n",
    "\n",
    "En d'autres termes, les acheteurs de ces obligations, au lieu de percevoir une rémunération sous forme de taux d'intérêt, seront au contraire perdants s'ils conservent leurs titres jusqu'à leur date de remboursement.\n",
    "Plutôt que sur le rendement, ils ont ainsi parié sur la poursuite de la hausse des cours des obligations, ce qui leur permettrait de revendre leurs titres avec une plus-value avant leur arrivée à échéance.\n",
    "Cette stratégie est toutefois bien plus risquée, et pourrait entraîner de très lourdes pertes en cas de retournement à la baisse des cours des obligations.\n",
    "\n",
    "Cette situation anormale a été provoquée par les politiques ultra-accommodantes des banques centrales depuis la crise financière mondiale de 2008.\n",
    "Les taux d'intérêts mondiaux n'ont cessé de chuter depuis cette crise, accompagnant la politique de taux zéro de nombreuses banques centrales.\n",
    "De leur côté, les cours des obligations (qui évoluent à l'inverse des taux d'intérêts) ont flambé sous l'effet d'une forte demande d'actifs considérés comme des valeurs-refuge.\n",
    "Les obligations, en particulier celles émises par les Etats les plus solides (Etats-Unis, Allemagne, France...), sont jugées bien moins risquées que les investissements en actions.\n",
    "\n",
    "En 2016, le renforcement par la BCE de sa politique d'assouplissement quantitatif a encore augmenté la pression sur les taux.\n",
    "Le 10 mars, la banque centrale européenne a abaissé son taux de dépôt à -0,4%, et son taux de refinancement à 0%.\n",
    "La BCE a en outre porté de 60 à 80 milliards d'euros le montant de ses achats d'actifs sur les marchés financiers jusqu'en mars 2017.\n",
    "Le montant de ces achats obligataires sera ensuite réduit à 60 MdsE, mais le programme sera tout de même prolongé au moins jusqu'à la fin 2017.\n",
    "\n",
    "En juin dernier, le vote des Britanniques en faveur du Brexit a encore accéléré l'afflux de capitaux vers les obligations, envoyant de nombreux taux vers leurs plus bas niveaux historiques.\n",
    "Ainsi, quelques semaines après le référendum britannique, en juillet, le taux de l'emprunt d'Etat allemand (Bund) à 10 ans est tombé à un plus bas de tous les temps, à -0,15%, tandis que le taux japonais à 10 ans a atteint -0,29%.\n",
    "Le rendement de l'OAT française à 10 ans a chuté à +0,09% et le T-Bond américain à 10 ans à +1,36%.\n",
    "\n",
    "Face à cette situation extrême, les critiques se sont multipliées, attirant l'attention sur les risques élevés que font courir à moyen terme les taux négatifs sur le système financier mondial.\n",
    "A première vue, des taux très bas voire négatifs sont une bonne nouvelle pour l'économie : ils ont ainsi soutenu le marché immobilier, notamment en France, où les taux des emprunts hypothécaires ont atteint des plus bas historiques cette année, permettant à de nombreux ménages de pouvoir accéder à la propriété.\n",
    "De même, les taux bas favorisent l'accès au crédit des entreprises, ce qui est de nature à relancer les investissements et l'emploi.\n",
    "\n",
    "S'ils sont un cadeau fait aux acteurs économiques qui s'endettent, les taux négatifs sont en revanche une malédiction pour ceux dont les revenus sont dérivés des revenus de leurs placements financiers.\n",
    "Les premières victimes des taux bas sont ainsi les banques, dont le métier consiste à emprunter à taux très bas et à prêter à des taux plus élevés.\n",
    "La chute des taux, et la réduction de l'écart entre les taux longs et courts, pèsent sur les bénéfices des établissements bancaires.\n",
    "Certaines banques, en Allemagne, ont même commencé à facturer à leurs clients leurs comptes de dépôt...\n",
    "La baisse des taux a également laminé les rendements de tous les produits d'épargne (livrets, assurance-vie, fonds de retraite etc.), et met en danger le versement des futures retraites dans les pays qui disposent de fonds de pension.\n",
    "\n",
    "En juin, un des meilleurs spécialistes mondiaux des marchés obligataires, Bill Gross, avait tiré la sonnette d'alarme sur la formation d'une bulle obligataire.\n",
    "L'investisseur américain, fondateur du célèbre fond obligataire Pimco, et désormais patron du fonds Janus Capital, soulignait que les taux d'intérêts mondiaux étaient tombés \"au plus bas depuis 500 ans d'historique connu\"...\n",
    "Bill Gross comparait le marché obligataire mondial à une \"supernova qui explosera un jour\", causant de gros dégâts lorsque les taux se mettront à remonter...\n",
    "\n",
    "Cette remontée des taux semble d'ailleurs se profiler à la fin de l'année 2016, sous le double impact de l'élection surprise de Donald Trump à la présidence des Etats-Unis, le 8 novembre, suivie de la hausse des taux directeurs de la Fed décidée le 14 décembre.\n",
    "Ces deux événements ont donné le signal d'un rebond des taux aux Etats-Unis, qui s'est répercuté dans le monde entier.\n",
    "Au 30 décembre, les taux à 10 ans sont désormais remontés en Allemagne à 0,20%, en France à 0,68%, au Japon à 0,04% et aux Etats-Unis à 2,45%.\n",
    "Les taux restent cependant proches de leurs plus bas historiques : les taux souverains allemands et japonais restent ainsi négatifs jusqu'à l'échéance de 8 ans inclus, tandis que ceux de la France ont un rendement négatif jusqu'à échéance de 6 ans.\n",
    "Aux Etats-Unis les rendements sont en revanche positifs sur toute la courbe des taux : 0,41% à un mois.\n",
    "\n",
    "Au 30 décembre, les taux à 10 ans sont désormais remontés en Allemagne à 0,20%, en France à 0,68%, au Japon à 0,04% et aux Etats-Unis à 2,45%. Les taux restent cependant proches de leurs plus bas historiques : les taux souverains allemands et japonais restent ainsi négatifs jusqu'à l'échéance de 8 ans inclus, tandis que ceux de la France ont un rendement négatif jusqu'à échéance de 6 ans. Aux Etats-Unis les rendements sont en revanche positifs sur toute la courbe des taux : 0,41% à un mois, 2,45% à 10 ans et 3,05% à 30 ans.\n",
    "En Europe, les taux italiens et portugais ont même connu en 2016 leur première hausse depuis 2011, année de la crise de la dette dans la zone euro. L'instabilité politique et la faiblesse du secteur bancaire en particulier en Italie, a contribué à cette remontée des coûts de financement...\n",
    "La plupart des experts estiment que la chute des taux a désormais été enrayée même s'ils n'anticipent pas de remontée rapide, qui serait un frein à la croissance économique. En Europe, le BCE devrait poursuivre une politique accommodante, tandis que la Fed américaine devrait continuer à relever graduellement ses taux, sauf en cas de ralentissement inattendu de l'économie américaine et mondiale. Le marché des taux devrait toutefois se montrer encore volatil ces prochains mois, à mesure que seront dévoilés les projets de politique économique et commerciale du président Donald Trump, qui prendra ses fonctions le 20 janvier prochain.\n",
    "Les annonces de campagne de M. Trump (relance budgétaire, baisse d'impôts et de la réglementation, protectionnisme) sont plutôt de nature à créer un environnement d'inflation plus élevée, ce qui entretiendrait des taux d'intérêts plus élevés, ainsi qu'un dollar fort. M. Trump prévoit de baisser les impôts pour les particuliers comme pour les entreprises, tout en augmentant fortement les investissements publics dans la défense et les grands travaux d'infrastructures. Un tel programme devrait d'une part stimuler la consommation et attiser l'inflation, et d'autre part entraîner un vif accroissement de l'endettement de l'Etat, avec un afflux d'émissions obligataires à la clé. Cet environnement de hausse de l'offre serait de nature à faire baisser les cours et remonter mécaniquement les taux.\n",
    "Comme en 2016, la Fed devra piloter à vue\n",
    "De son côté, la Fed a laissé entendre le 14 décembre qu'elle s'apprêtait à relever trois fois son taux des \"fed funds\" courant 2017, ce qui les porterait dans une fourchette 1,25% à 1,50% dans un an. La réalisation de ce calendrier dépendra cependant de nombreux facteurs que la Fed ne maîtrise pas, à commencer par la nouvelle politique économique de l'administration Trump.\n",
    "Rappelons qu'en 2016, la Fed avait aussi initialement prévu de relever ses taux trois fois, mais en raison de nombreux facteurs de risques qui ont émaillé l'année (turbulences boursières, craintes sur la Chine, Brexit...), elle n'a finalement agi qu'une seule fois, en décembre, un an après avoir entamé son cycle haussier. La hausse du dollar, qui évolue près de ses plus hauts niveaux depuis plus de 13 ans face à un panier de devises mondiales, pourrait être un obstacle aux futures actions de la Fed. Les exportations et la croissance économique américaine souffriraient des effets d'un dollar trop vigoureux pendant une période prolongée...\n",
    "\"\"\"\n",
    "\n",
    "# Creation du DataFrame\n",
    "data = {\"Content\": [article_content]}\n",
    "df = pd.DataFrame(data)\n",
    "\n",
    "# Enregistrer au format CSV, mis en pause pour streamlit et compatibilité avec les autres participants au projet\n",
    "#file_path = r\"C:\\\\Users\\paule\\projets_python\\data_managementd\\article_2016_taux_negatifs.csv\"\n"
   ]
  },
  {
   "cell_type": "markdown",
   "id": "558cd8a6-79b0-44ee-a72d-13f88c3ee2af",
   "metadata": {},
   "source": [
    "# I - Analyse du texte"
   ]
  },
  {
   "cell_type": "code",
   "execution_count": 43,
   "id": "e233a146-40c4-446e-93d8-fdfc5c5199c6",
   "metadata": {
    "scrolled": true
   },
   "outputs": [
    {
     "name": "stdout",
     "output_type": "stream",
     "text": [
      "\n",
      "Sur les marchés de taux d'intérêt, l'année 2016 restera marquée d'une pierre blanche comme celle où les taux d'intérêts servis par les obligations sont tombés massivement en terrain négatif, un événement unique dans l'histoire par son ampleur.\n",
      "Ainsi, le montant des obligations servant des taux négatifs dépassait en cette fin d'année les 10.000 milliards de dollars dans le monde, après avoir atteint plus de 13.000 milliards en cours d'année.\n",
      "\n",
      "En d'autres termes, les acheteurs de ces obligations, au lieu de percevoir une rémunération sous forme de taux d'intérêt, seront au contraire perdants s'ils conservent leurs titres jusqu'à leur date de remboursement.\n",
      "Plutôt que sur le rendement, ils ont ainsi parié sur la poursuite de la hausse des cours des obligations, ce qui leur permettrait de revendre leurs titres avec une plus-value avant leur arrivée à échéance.\n",
      "Cette stratégie est toutefois bien plus risquée, et pourrait entraîner de très lourdes pertes en cas de retournement à la baisse des cours des obligations.\n",
      "\n",
      "Cette situation anormale a été provoquée par les politiques ultra-accommodantes des banques centrales depuis la crise financière mondiale de 2008.\n",
      "Les taux d'intérêts mondiaux n'ont cessé de chuter depuis cette crise, accompagnant la politique de taux zéro de nombreuses banques centrales.\n",
      "De leur côté, les cours des obligations (qui évoluent à l'inverse des taux d'intérêts) ont flambé sous l'effet d'une forte demande d'actifs considérés comme des valeurs-refuge.\n",
      "Les obligations, en particulier celles émises par les Etats les plus solides (Etats-Unis, Allemagne, France...), sont jugées bien moins risquées que les investissements en actions.\n",
      "\n",
      "En 2016, le renforcement par la BCE de sa politique d'assouplissement quantitatif a encore augmenté la pression sur les taux.\n",
      "Le 10 mars, la banque centrale européenne a abaissé son taux de dépôt à -0,4%, et son taux de refinancement à 0%.\n",
      "La BCE a en outre porté de 60 à 80 milliards d'euros le montant de ses achats d'actifs sur les marchés financiers jusqu'en mars 2017.\n",
      "Le montant de ces achats obligataires sera ensuite réduit à 60 MdsE, mais le programme sera tout de même prolongé au moins jusqu'à la fin 2017.\n",
      "\n",
      "En juin dernier, le vote des Britanniques en faveur du Brexit a encore accéléré l'afflux de capitaux vers les obligations, envoyant de nombreux taux vers leurs plus bas niveaux historiques.\n",
      "Ainsi, quelques semaines après le référendum britannique, en juillet, le taux de l'emprunt d'Etat allemand (Bund) à 10 ans est tombé à un plus bas de tous les temps, à -0,15%, tandis que le taux japonais à 10 ans a atteint -0,29%.\n",
      "Le rendement de l'OAT française à 10 ans a chuté à +0,09% et le T-Bond américain à 10 ans à +1,36%.\n",
      "\n",
      "Face à cette situation extrême, les critiques se sont multipliées, attirant l'attention sur les risques élevés que font courir à moyen terme les taux négatifs sur le système financier mondial.\n",
      "A première vue, des taux très bas voire négatifs sont une bonne nouvelle pour l'économie : ils ont ainsi soutenu le marché immobilier, notamment en France, où les taux des emprunts hypothécaires ont atteint des plus bas historiques cette année, permettant à de nombreux ménages de pouvoir accéder à la propriété.\n",
      "De même, les taux bas favorisent l'accès au crédit des entreprises, ce qui est de nature à relancer les investissements et l'emploi.\n",
      "\n",
      "S'ils sont un cadeau fait aux acteurs économiques qui s'endettent, les taux négatifs sont en revanche une malédiction pour ceux dont les revenus sont dérivés des revenus de leurs placements financiers.\n",
      "Les premières victimes des taux bas sont ainsi les banques, dont le métier consiste à emprunter à taux très bas et à prêter à des taux plus élevés.\n",
      "La chute des taux, et la réduction de l'écart entre les taux longs et courts, pèsent sur les bénéfices des établissements bancaires.\n",
      "Certaines banques, en Allemagne, ont même commencé à facturer à leurs clients leurs comptes de dépôt...\n",
      "La baisse des taux a également laminé les rendements de tous les produits d'épargne (livrets, assurance-vie, fonds de retraite etc.), et met en danger le versement des futures retraites dans les pays qui disposent de fonds de pension.\n",
      "\n",
      "En juin, un des meilleurs spécialistes mondiaux des marchés obligataires, Bill Gross, avait tiré la sonnette d'alarme sur la formation d'une bulle obligataire.\n",
      "L'investisseur américain, fondateur du célèbre fond obligataire Pimco, et désormais patron du fonds Janus Capital, soulignait que les taux d'intérêts mondiaux étaient tombés \"au plus bas depuis 500 ans d'historique connu\"...\n",
      "Bill Gross comparait le marché obligataire mondial à une \"supernova qui explosera un jour\", causant de gros dégâts lorsque les taux se mettront à remonter...\n",
      "\n",
      "Cette remontée des taux semble d'ailleurs se profiler à la fin de l'année 2016, sous le double impact de l'élection surprise de Donald Trump à la présidence des Etats-Unis, le 8 novembre, suivie de la hausse des taux directeurs de la Fed décidée le 14 décembre.\n",
      "Ces deux événements ont donné le signal d'un rebond des taux aux Etats-Unis, qui s'est répercuté dans le monde entier.\n",
      "Au 30 décembre, les taux à 10 ans sont désormais remontés en Allemagne à 0,20%, en France à 0,68%, au Japon à 0,04% et aux Etats-Unis à 2,45%.\n",
      "Les taux restent cependant proches de leurs plus bas historiques : les taux souverains allemands et japonais restent ainsi négatifs jusqu'à l'échéance de 8 ans inclus, tandis que ceux de la France ont un rendement négatif jusqu'à échéance de 6 ans.\n",
      "Aux Etats-Unis les rendements sont en revanche positifs sur toute la courbe des taux : 0,41% à un mois.\n",
      "\n",
      "Au 30 décembre, les taux à 10 ans sont désormais remontés en Allemagne à 0,20%, en France à 0,68%, au Japon à 0,04% et aux Etats-Unis à 2,45%. Les taux restent cependant proches de leurs plus bas historiques : les taux souverains allemands et japonais restent ainsi négatifs jusqu'à l'échéance de 8 ans inclus, tandis que ceux de la France ont un rendement négatif jusqu'à échéance de 6 ans. Aux Etats-Unis les rendements sont en revanche positifs sur toute la courbe des taux : 0,41% à un mois, 2,45% à 10 ans et 3,05% à 30 ans.\n",
      "En Europe, les taux italiens et portugais ont même connu en 2016 leur première hausse depuis 2011, année de la crise de la dette dans la zone euro. L'instabilité politique et la faiblesse du secteur bancaire en particulier en Italie, a contribué à cette remontée des coûts de financement...\n",
      "La plupart des experts estiment que la chute des taux a désormais été enrayée même s'ils n'anticipent pas de remontée rapide, qui serait un frein à la croissance économique. En Europe, le BCE devrait poursuivre une politique accommodante, tandis que la Fed américaine devrait continuer à relever graduellement ses taux, sauf en cas de ralentissement inattendu de l'économie américaine et mondiale. Le marché des taux devrait toutefois se montrer encore volatil ces prochains mois, à mesure que seront dévoilés les projets de politique économique et commerciale du président Donald Trump, qui prendra ses fonctions le 20 janvier prochain.\n",
      "Les annonces de campagne de M. Trump (relance budgétaire, baisse d'impôts et de la réglementation, protectionnisme) sont plutôt de nature à créer un environnement d'inflation plus élevée, ce qui entretiendrait des taux d'intérêts plus élevés, ainsi qu'un dollar fort. M. Trump prévoit de baisser les impôts pour les particuliers comme pour les entreprises, tout en augmentant fortement les investissements publics dans la défense et les grands travaux d'infrastructures. Un tel programme devrait d'une part stimuler la consommation et attiser l'inflation, et d'autre part entraîner un vif accroissement de l'endettement de l'Etat, avec un afflux d'émissions obligataires à la clé. Cet environnement de hausse de l'offre serait de nature à faire baisser les cours et remonter mécaniquement les taux.\n",
      "Comme en 2016, la Fed devra piloter à vue\n",
      "De son côté, la Fed a laissé entendre le 14 décembre qu'elle s'apprêtait à relever trois fois son taux des \"fed funds\" courant 2017, ce qui les porterait dans une fourchette 1,25% à 1,50% dans un an. La réalisation de ce calendrier dépendra cependant de nombreux facteurs que la Fed ne maîtrise pas, à commencer par la nouvelle politique économique de l'administration Trump.\n",
      "Rappelons qu'en 2016, la Fed avait aussi initialement prévu de relever ses taux trois fois, mais en raison de nombreux facteurs de risques qui ont émaillé l'année (turbulences boursières, craintes sur la Chine, Brexit...), elle n'a finalement agi qu'une seule fois, en décembre, un an après avoir entamé son cycle haussier. La hausse du dollar, qui évolue près de ses plus hauts niveaux depuis plus de 13 ans face à un panier de devises mondiales, pourrait être un obstacle aux futures actions de la Fed. Les exportations et la croissance économique américaine souffriraient des effets d'un dollar trop vigoureux pendant une période prolongée...\n",
      "\n"
     ]
    }
   ],
   "source": [
    "# Chargement et affichage du fichier CSV \n",
    "data = df\n",
    "\n",
    "print(data['Content'].iloc[0])"
   ]
  },
  {
   "cell_type": "code",
   "execution_count": 44,
   "id": "95eb3860-142c-44cc-9e9c-959d5c1942e0",
   "metadata": {},
   "outputs": [
    {
     "name": "stdout",
     "output_type": "stream",
     "text": [
      "Les corpus est composé de 1 document(s)\n",
      "Le corpus est composé de 1447 mots.\n"
     ]
    }
   ],
   "source": [
    "print(f\"Les corpus est composé de {len(data)} document(s)\")\n",
    "\n",
    "# Compter le nombre de mots en séparant sur les espaces\n",
    "word_count = len(article_content.split())\n",
    "print(f\"Le corpus est composé de {word_count} mots.\")"
   ]
  },
  {
   "cell_type": "markdown",
   "id": "92b542fe-d7ea-43ee-8b16-7eb3c105847b",
   "metadata": {},
   "source": [
    "### a) Mise en minuscule "
   ]
  },
  {
   "cell_type": "code",
   "execution_count": 45,
   "id": "dbd1ca3d-c956-401b-8ce0-82f03c70d1ab",
   "metadata": {
    "scrolled": true
   },
   "outputs": [
    {
     "name": "stdout",
     "output_type": "stream",
     "text": [
      "['\\nsur les marchés de taux d\\'intérêt, l\\'année 2016 restera marquée d\\'une pierre blanche comme celle où les taux d\\'intérêts servis par les obligations sont tombés massivement en terrain négatif, un événement unique dans l\\'histoire par son ampleur.\\nainsi, le montant des obligations servant des taux négatifs dépassait en cette fin d\\'année les 10.000 milliards de dollars dans le monde, après avoir atteint plus de 13.000 milliards en cours d\\'année.\\n\\nen d\\'autres termes, les acheteurs de ces obligations, au lieu de percevoir une rémunération sous forme de taux d\\'intérêt, seront au contraire perdants s\\'ils conservent leurs titres jusqu\\'à leur date de remboursement.\\nplutôt que sur le rendement, ils ont ainsi parié sur la poursuite de la hausse des cours des obligations, ce qui leur permettrait de revendre leurs titres avec une plus-value avant leur arrivée à échéance.\\ncette stratégie est toutefois bien plus risquée, et pourrait entraîner de très lourdes pertes en cas de retournement à la baisse des cours des obligations.\\n\\ncette situation anormale a été provoquée par les politiques ultra-accommodantes des banques centrales depuis la crise financière mondiale de 2008.\\nles taux d\\'intérêts mondiaux n\\'ont cessé de chuter depuis cette crise, accompagnant la politique de taux zéro de nombreuses banques centrales.\\nde leur côté, les cours des obligations (qui évoluent à l\\'inverse des taux d\\'intérêts) ont flambé sous l\\'effet d\\'une forte demande d\\'actifs considérés comme des valeurs-refuge.\\nles obligations, en particulier celles émises par les etats les plus solides (etats-unis, allemagne, france...), sont jugées bien moins risquées que les investissements en actions.\\n\\nen 2016, le renforcement par la bce de sa politique d\\'assouplissement quantitatif a encore augmenté la pression sur les taux.\\nle 10 mars, la banque centrale européenne a abaissé son taux de dépôt à -0,4%, et son taux de refinancement à 0%.\\nla bce a en outre porté de 60 à 80 milliards d\\'euros le montant de ses achats d\\'actifs sur les marchés financiers jusqu\\'en mars 2017.\\nle montant de ces achats obligataires sera ensuite réduit à 60 mdse, mais le programme sera tout de même prolongé au moins jusqu\\'à la fin 2017.\\n\\nen juin dernier, le vote des britanniques en faveur du brexit a encore accéléré l\\'afflux de capitaux vers les obligations, envoyant de nombreux taux vers leurs plus bas niveaux historiques.\\nainsi, quelques semaines après le référendum britannique, en juillet, le taux de l\\'emprunt d\\'etat allemand (bund) à 10 ans est tombé à un plus bas de tous les temps, à -0,15%, tandis que le taux japonais à 10 ans a atteint -0,29%.\\nle rendement de l\\'oat française à 10 ans a chuté à +0,09% et le t-bond américain à 10 ans à +1,36%.\\n\\nface à cette situation extrême, les critiques se sont multipliées, attirant l\\'attention sur les risques élevés que font courir à moyen terme les taux négatifs sur le système financier mondial.\\na première vue, des taux très bas voire négatifs sont une bonne nouvelle pour l\\'économie : ils ont ainsi soutenu le marché immobilier, notamment en france, où les taux des emprunts hypothécaires ont atteint des plus bas historiques cette année, permettant à de nombreux ménages de pouvoir accéder à la propriété.\\nde même, les taux bas favorisent l\\'accès au crédit des entreprises, ce qui est de nature à relancer les investissements et l\\'emploi.\\n\\ns\\'ils sont un cadeau fait aux acteurs économiques qui s\\'endettent, les taux négatifs sont en revanche une malédiction pour ceux dont les revenus sont dérivés des revenus de leurs placements financiers.\\nles premières victimes des taux bas sont ainsi les banques, dont le métier consiste à emprunter à taux très bas et à prêter à des taux plus élevés.\\nla chute des taux, et la réduction de l\\'écart entre les taux longs et courts, pèsent sur les bénéfices des établissements bancaires.\\ncertaines banques, en allemagne, ont même commencé à facturer à leurs clients leurs comptes de dépôt...\\nla baisse des taux a également laminé les rendements de tous les produits d\\'épargne (livrets, assurance-vie, fonds de retraite etc.), et met en danger le versement des futures retraites dans les pays qui disposent de fonds de pension.\\n\\nen juin, un des meilleurs spécialistes mondiaux des marchés obligataires, bill gross, avait tiré la sonnette d\\'alarme sur la formation d\\'une bulle obligataire.\\nl\\'investisseur américain, fondateur du célèbre fond obligataire pimco, et désormais patron du fonds janus capital, soulignait que les taux d\\'intérêts mondiaux étaient tombés \"au plus bas depuis 500 ans d\\'historique connu\"...\\nbill gross comparait le marché obligataire mondial à une \"supernova qui explosera un jour\", causant de gros dégâts lorsque les taux se mettront à remonter...\\n\\ncette remontée des taux semble d\\'ailleurs se profiler à la fin de l\\'année 2016, sous le double impact de l\\'élection surprise de donald trump à la présidence des etats-unis, le 8 novembre, suivie de la hausse des taux directeurs de la fed décidée le 14 décembre.\\nces deux événements ont donné le signal d\\'un rebond des taux aux etats-unis, qui s\\'est répercuté dans le monde entier.\\nau 30 décembre, les taux à 10 ans sont désormais remontés en allemagne à 0,20%, en france à 0,68%, au japon à 0,04% et aux etats-unis à 2,45%.\\nles taux restent cependant proches de leurs plus bas historiques : les taux souverains allemands et japonais restent ainsi négatifs jusqu\\'à l\\'échéance de 8 ans inclus, tandis que ceux de la france ont un rendement négatif jusqu\\'à échéance de 6 ans.\\naux etats-unis les rendements sont en revanche positifs sur toute la courbe des taux : 0,41% à un mois.\\n\\nau 30 décembre, les taux à 10 ans sont désormais remontés en allemagne à 0,20%, en france à 0,68%, au japon à 0,04% et aux etats-unis à 2,45%. les taux restent cependant proches de leurs plus bas historiques : les taux souverains allemands et japonais restent ainsi négatifs jusqu\\'à l\\'échéance de 8 ans inclus, tandis que ceux de la france ont un rendement négatif jusqu\\'à échéance de 6 ans. aux etats-unis les rendements sont en revanche positifs sur toute la courbe des taux : 0,41% à un mois, 2,45% à 10 ans et 3,05% à 30 ans.\\nen europe, les taux italiens et portugais ont même connu en 2016 leur première hausse depuis 2011, année de la crise de la dette dans la zone euro. l\\'instabilité politique et la faiblesse du secteur bancaire en particulier en italie, a contribué à cette remontée des coûts de financement...\\nla plupart des experts estiment que la chute des taux a désormais été enrayée même s\\'ils n\\'anticipent pas de remontée rapide, qui serait un frein à la croissance économique. en europe, le bce devrait poursuivre une politique accommodante, tandis que la fed américaine devrait continuer à relever graduellement ses taux, sauf en cas de ralentissement inattendu de l\\'économie américaine et mondiale. le marché des taux devrait toutefois se montrer encore volatil ces prochains mois, à mesure que seront dévoilés les projets de politique économique et commerciale du président donald trump, qui prendra ses fonctions le 20 janvier prochain.\\nles annonces de campagne de m. trump (relance budgétaire, baisse d\\'impôts et de la réglementation, protectionnisme) sont plutôt de nature à créer un environnement d\\'inflation plus élevée, ce qui entretiendrait des taux d\\'intérêts plus élevés, ainsi qu\\'un dollar fort. m. trump prévoit de baisser les impôts pour les particuliers comme pour les entreprises, tout en augmentant fortement les investissements publics dans la défense et les grands travaux d\\'infrastructures. un tel programme devrait d\\'une part stimuler la consommation et attiser l\\'inflation, et d\\'autre part entraîner un vif accroissement de l\\'endettement de l\\'etat, avec un afflux d\\'émissions obligataires à la clé. cet environnement de hausse de l\\'offre serait de nature à faire baisser les cours et remonter mécaniquement les taux.\\ncomme en 2016, la fed devra piloter à vue\\nde son côté, la fed a laissé entendre le 14 décembre qu\\'elle s\\'apprêtait à relever trois fois son taux des \"fed funds\" courant 2017, ce qui les porterait dans une fourchette 1,25% à 1,50% dans un an. la réalisation de ce calendrier dépendra cependant de nombreux facteurs que la fed ne maîtrise pas, à commencer par la nouvelle politique économique de l\\'administration trump.\\nrappelons qu\\'en 2016, la fed avait aussi initialement prévu de relever ses taux trois fois, mais en raison de nombreux facteurs de risques qui ont émaillé l\\'année (turbulences boursières, craintes sur la chine, brexit...), elle n\\'a finalement agi qu\\'une seule fois, en décembre, un an après avoir entamé son cycle haussier. la hausse du dollar, qui évolue près de ses plus hauts niveaux depuis plus de 13 ans face à un panier de devises mondiales, pourrait être un obstacle aux futures actions de la fed. les exportations et la croissance économique américaine souffriraient des effets d\\'un dollar trop vigoureux pendant une période prolongée...\\n']\n"
     ]
    }
   ],
   "source": [
    "corpus_2 = [doc.lower() for doc in data['Content']]\n",
    "\n",
    "# Afficher le contenu converti\n",
    "print(corpus_2)"
   ]
  },
  {
   "cell_type": "code",
   "execution_count": 46,
   "id": "7cd4ec32-618a-4633-97dc-5da7c4ebb0f9",
   "metadata": {},
   "outputs": [
    {
     "name": "stdout",
     "output_type": "stream",
     "text": [
      "Le type du document 1 est <class 'str'>, c'est ok!\n"
     ]
    }
   ],
   "source": [
    "i = 1\n",
    "\n",
    "for doc in data:\n",
    "    if type(doc) == str:\n",
    "        print(f\"Le type du document {i} est {type(doc)}, c'est ok!\" )\n",
    "    else :\n",
    "        print(f\"Le type du document {i} est {type(doc)}, il faut le convertir!\" )\n",
    "        \n",
    "    i+=1"
   ]
  },
  {
   "cell_type": "markdown",
   "id": "cd953d72-c139-48c6-9184-04353de0b6e0",
   "metadata": {},
   "source": [
    "### b) Suppresion de la ponctuation, des accents et des caractères spéciaux"
   ]
  },
  {
   "cell_type": "code",
   "execution_count": 47,
   "id": "c7a9c7dc-38c0-44b6-956b-20099fcf8139",
   "metadata": {
    "scrolled": true
   },
   "outputs": [
    {
     "name": "stdout",
     "output_type": "stream",
     "text": [
      "['\\nsur les marchés de taux dintérêt lannée 2016 restera marquée dune pierre blanche comme celle où les taux dintérêts servis par les obligations sont tombés massivement en terrain négatif un événement unique dans lhistoire par son ampleur\\nainsi le montant des obligations servant des taux négatifs dépassait en cette fin dannée les 10000 milliards de dollars dans le monde après avoir atteint plus de 13000 milliards en cours dannée\\n\\nen dautres termes les acheteurs de ces obligations au lieu de percevoir une rémunération sous forme de taux dintérêt seront au contraire perdants sils conservent leurs titres jusquà leur date de remboursement\\nplutôt que sur le rendement ils ont ainsi parié sur la poursuite de la hausse des cours des obligations ce qui leur permettrait de revendre leurs titres avec une plusvalue avant leur arrivée à échéance\\ncette stratégie est toutefois bien plus risquée et pourrait entraîner de très lourdes pertes en cas de retournement à la baisse des cours des obligations\\n\\ncette situation anormale a été provoquée par les politiques ultraaccommodantes des banques centrales depuis la crise financière mondiale de 2008\\nles taux dintérêts mondiaux nont cessé de chuter depuis cette crise accompagnant la politique de taux zéro de nombreuses banques centrales\\nde leur côté les cours des obligations qui évoluent à linverse des taux dintérêts ont flambé sous leffet dune forte demande dactifs considérés comme des valeursrefuge\\nles obligations en particulier celles émises par les etats les plus solides etatsunis allemagne france sont jugées bien moins risquées que les investissements en actions\\n\\nen 2016 le renforcement par la bce de sa politique dassouplissement quantitatif a encore augmenté la pression sur les taux\\nle 10 mars la banque centrale européenne a abaissé son taux de dépôt à 04 et son taux de refinancement à 0\\nla bce a en outre porté de 60 à 80 milliards deuros le montant de ses achats dactifs sur les marchés financiers jusquen mars 2017\\nle montant de ces achats obligataires sera ensuite réduit à 60 mdse mais le programme sera tout de même prolongé au moins jusquà la fin 2017\\n\\nen juin dernier le vote des britanniques en faveur du brexit a encore accéléré lafflux de capitaux vers les obligations envoyant de nombreux taux vers leurs plus bas niveaux historiques\\nainsi quelques semaines après le référendum britannique en juillet le taux de lemprunt detat allemand bund à 10 ans est tombé à un plus bas de tous les temps à 015 tandis que le taux japonais à 10 ans a atteint 029\\nle rendement de loat française à 10 ans a chuté à 009 et le tbond américain à 10 ans à 136\\n\\nface à cette situation extrême les critiques se sont multipliées attirant lattention sur les risques élevés que font courir à moyen terme les taux négatifs sur le système financier mondial\\na première vue des taux très bas voire négatifs sont une bonne nouvelle pour léconomie  ils ont ainsi soutenu le marché immobilier notamment en france où les taux des emprunts hypothécaires ont atteint des plus bas historiques cette année permettant à de nombreux ménages de pouvoir accéder à la propriété\\nde même les taux bas favorisent laccès au crédit des entreprises ce qui est de nature à relancer les investissements et lemploi\\n\\nsils sont un cadeau fait aux acteurs économiques qui sendettent les taux négatifs sont en revanche une malédiction pour ceux dont les revenus sont dérivés des revenus de leurs placements financiers\\nles premières victimes des taux bas sont ainsi les banques dont le métier consiste à emprunter à taux très bas et à prêter à des taux plus élevés\\nla chute des taux et la réduction de lécart entre les taux longs et courts pèsent sur les bénéfices des établissements bancaires\\ncertaines banques en allemagne ont même commencé à facturer à leurs clients leurs comptes de dépôt\\nla baisse des taux a également laminé les rendements de tous les produits dépargne livrets assurancevie fonds de retraite etc et met en danger le versement des futures retraites dans les pays qui disposent de fonds de pension\\n\\nen juin un des meilleurs spécialistes mondiaux des marchés obligataires bill gross avait tiré la sonnette dalarme sur la formation dune bulle obligataire\\nlinvestisseur américain fondateur du célèbre fond obligataire pimco et désormais patron du fonds janus capital soulignait que les taux dintérêts mondiaux étaient tombés au plus bas depuis 500 ans dhistorique connu\\nbill gross comparait le marché obligataire mondial à une supernova qui explosera un jour causant de gros dégâts lorsque les taux se mettront à remonter\\n\\ncette remontée des taux semble dailleurs se profiler à la fin de lannée 2016 sous le double impact de lélection surprise de donald trump à la présidence des etatsunis le 8 novembre suivie de la hausse des taux directeurs de la fed décidée le 14 décembre\\nces deux événements ont donné le signal dun rebond des taux aux etatsunis qui sest répercuté dans le monde entier\\nau 30 décembre les taux à 10 ans sont désormais remontés en allemagne à 020 en france à 068 au japon à 004 et aux etatsunis à 245\\nles taux restent cependant proches de leurs plus bas historiques  les taux souverains allemands et japonais restent ainsi négatifs jusquà léchéance de 8 ans inclus tandis que ceux de la france ont un rendement négatif jusquà échéance de 6 ans\\naux etatsunis les rendements sont en revanche positifs sur toute la courbe des taux  041 à un mois\\n\\nau 30 décembre les taux à 10 ans sont désormais remontés en allemagne à 020 en france à 068 au japon à 004 et aux etatsunis à 245 les taux restent cependant proches de leurs plus bas historiques  les taux souverains allemands et japonais restent ainsi négatifs jusquà léchéance de 8 ans inclus tandis que ceux de la france ont un rendement négatif jusquà échéance de 6 ans aux etatsunis les rendements sont en revanche positifs sur toute la courbe des taux  041 à un mois 245 à 10 ans et 305 à 30 ans\\nen europe les taux italiens et portugais ont même connu en 2016 leur première hausse depuis 2011 année de la crise de la dette dans la zone euro linstabilité politique et la faiblesse du secteur bancaire en particulier en italie a contribué à cette remontée des coûts de financement\\nla plupart des experts estiment que la chute des taux a désormais été enrayée même sils nanticipent pas de remontée rapide qui serait un frein à la croissance économique en europe le bce devrait poursuivre une politique accommodante tandis que la fed américaine devrait continuer à relever graduellement ses taux sauf en cas de ralentissement inattendu de léconomie américaine et mondiale le marché des taux devrait toutefois se montrer encore volatil ces prochains mois à mesure que seront dévoilés les projets de politique économique et commerciale du président donald trump qui prendra ses fonctions le 20 janvier prochain\\nles annonces de campagne de m trump relance budgétaire baisse dimpôts et de la réglementation protectionnisme sont plutôt de nature à créer un environnement dinflation plus élevée ce qui entretiendrait des taux dintérêts plus élevés ainsi quun dollar fort m trump prévoit de baisser les impôts pour les particuliers comme pour les entreprises tout en augmentant fortement les investissements publics dans la défense et les grands travaux dinfrastructures un tel programme devrait dune part stimuler la consommation et attiser linflation et dautre part entraîner un vif accroissement de lendettement de letat avec un afflux démissions obligataires à la clé cet environnement de hausse de loffre serait de nature à faire baisser les cours et remonter mécaniquement les taux\\ncomme en 2016 la fed devra piloter à vue\\nde son côté la fed a laissé entendre le 14 décembre quelle sapprêtait à relever trois fois son taux des fed funds courant 2017 ce qui les porterait dans une fourchette 125 à 150 dans un an la réalisation de ce calendrier dépendra cependant de nombreux facteurs que la fed ne maîtrise pas à commencer par la nouvelle politique économique de ladministration trump\\nrappelons quen 2016 la fed avait aussi initialement prévu de relever ses taux trois fois mais en raison de nombreux facteurs de risques qui ont émaillé lannée turbulences boursières craintes sur la chine brexit elle na finalement agi quune seule fois en décembre un an après avoir entamé son cycle haussier la hausse du dollar qui évolue près de ses plus hauts niveaux depuis plus de 13 ans face à un panier de devises mondiales pourrait être un obstacle aux futures actions de la fed les exportations et la croissance économique américaine souffriraient des effets dun dollar trop vigoureux pendant une période prolongée\\n']\n"
     ]
    }
   ],
   "source": [
    "# Suppression de la ponctuation dans les documents du corpus déjà en minuscule\n",
    "corpus_cleaned = [''.join(char for char in doc if char not in string.punctuation) for doc in corpus_2]\n",
    "print(corpus_cleaned)  "
   ]
  },
  {
   "cell_type": "code",
   "execution_count": 48,
   "id": "e9b1964c-c86f-4848-9ae5-c245827b9797",
   "metadata": {
    "scrolled": true
   },
   "outputs": [
    {
     "name": "stdout",
     "output_type": "stream",
     "text": [
      "['\\nsur les marches de taux dinteret lannee 2016 restera marquee dune pierre blanche comme celle ou les taux dinterets servis par les obligations sont tombes massivement en terrain negatif un evenement unique dans lhistoire par son ampleur\\nainsi le montant des obligations servant des taux negatifs depassait en cette fin dannee les 10000 milliards de dollars dans le monde apres avoir atteint plus de 13000 milliards en cours dannee\\n\\nen dautres termes les acheteurs de ces obligations au lieu de percevoir une remuneration sous forme de taux dinteret seront au contraire perdants sils conservent leurs titres jusqua leur date de remboursement\\nplutot que sur le rendement ils ont ainsi parie sur la poursuite de la hausse des cours des obligations ce qui leur permettrait de revendre leurs titres avec une plusvalue avant leur arrivee a echeance\\ncette strategie est toutefois bien plus risquee et pourrait entrainer de tres lourdes pertes en cas de retournement a la baisse des cours des obligations\\n\\ncette situation anormale a ete provoquee par les politiques ultraaccommodantes des banques centrales depuis la crise financiere mondiale de 2008\\nles taux dinterets mondiaux nont cesse de chuter depuis cette crise accompagnant la politique de taux zero de nombreuses banques centrales\\nde leur cote les cours des obligations qui evoluent a linverse des taux dinterets ont flambe sous leffet dune forte demande dactifs consideres comme des valeursrefuge\\nles obligations en particulier celles emises par les etats les plus solides etatsunis allemagne france sont jugees bien moins risquees que les investissements en actions\\n\\nen 2016 le renforcement par la bce de sa politique dassouplissement quantitatif a encore augmente la pression sur les taux\\nle 10 mars la banque centrale europeenne a abaisse son taux de depot a 04 et son taux de refinancement a 0\\nla bce a en outre porte de 60 a 80 milliards deuros le montant de ses achats dactifs sur les marches financiers jusquen mars 2017\\nle montant de ces achats obligataires sera ensuite reduit a 60 mdse mais le programme sera tout de meme prolonge au moins jusqua la fin 2017\\n\\nen juin dernier le vote des britanniques en faveur du brexit a encore accelere lafflux de capitaux vers les obligations envoyant de nombreux taux vers leurs plus bas niveaux historiques\\nainsi quelques semaines apres le referendum britannique en juillet le taux de lemprunt detat allemand bund a 10 ans est tombe a un plus bas de tous les temps a 015 tandis que le taux japonais a 10 ans a atteint 029\\nle rendement de loat francaise a 10 ans a chute a 009 et le tbond americain a 10 ans a 136\\n\\nface a cette situation extreme les critiques se sont multipliees attirant lattention sur les risques eleves que font courir a moyen terme les taux negatifs sur le systeme financier mondial\\na premiere vue des taux tres bas voire negatifs sont une bonne nouvelle pour leconomie  ils ont ainsi soutenu le marche immobilier notamment en france ou les taux des emprunts hypothecaires ont atteint des plus bas historiques cette annee permettant a de nombreux menages de pouvoir acceder a la propriete\\nde meme les taux bas favorisent lacces au credit des entreprises ce qui est de nature a relancer les investissements et lemploi\\n\\nsils sont un cadeau fait aux acteurs economiques qui sendettent les taux negatifs sont en revanche une malediction pour ceux dont les revenus sont derives des revenus de leurs placements financiers\\nles premieres victimes des taux bas sont ainsi les banques dont le metier consiste a emprunter a taux tres bas et a preter a des taux plus eleves\\nla chute des taux et la reduction de lecart entre les taux longs et courts pesent sur les benefices des etablissements bancaires\\ncertaines banques en allemagne ont meme commence a facturer a leurs clients leurs comptes de depot\\nla baisse des taux a egalement lamine les rendements de tous les produits depargne livrets assurancevie fonds de retraite etc et met en danger le versement des futures retraites dans les pays qui disposent de fonds de pension\\n\\nen juin un des meilleurs specialistes mondiaux des marches obligataires bill gross avait tire la sonnette dalarme sur la formation dune bulle obligataire\\nlinvestisseur americain fondateur du celebre fond obligataire pimco et desormais patron du fonds janus capital soulignait que les taux dinterets mondiaux etaient tombes au plus bas depuis 500 ans dhistorique connu\\nbill gross comparait le marche obligataire mondial a une supernova qui explosera un jour causant de gros degats lorsque les taux se mettront a remonter\\n\\ncette remontee des taux semble dailleurs se profiler a la fin de lannee 2016 sous le double impact de lelection surprise de donald trump a la presidence des etatsunis le 8 novembre suivie de la hausse des taux directeurs de la fed decidee le 14 decembre\\nces deux evenements ont donne le signal dun rebond des taux aux etatsunis qui sest repercute dans le monde entier\\nau 30 decembre les taux a 10 ans sont desormais remontes en allemagne a 020 en france a 068 au japon a 004 et aux etatsunis a 245\\nles taux restent cependant proches de leurs plus bas historiques  les taux souverains allemands et japonais restent ainsi negatifs jusqua lecheance de 8 ans inclus tandis que ceux de la france ont un rendement negatif jusqua echeance de 6 ans\\naux etatsunis les rendements sont en revanche positifs sur toute la courbe des taux  041 a un mois\\n\\nau 30 decembre les taux a 10 ans sont desormais remontes en allemagne a 020 en france a 068 au japon a 004 et aux etatsunis a 245 les taux restent cependant proches de leurs plus bas historiques  les taux souverains allemands et japonais restent ainsi negatifs jusqua lecheance de 8 ans inclus tandis que ceux de la france ont un rendement negatif jusqua echeance de 6 ans aux etatsunis les rendements sont en revanche positifs sur toute la courbe des taux  041 a un mois 245 a 10 ans et 305 a 30 ans\\nen europe les taux italiens et portugais ont meme connu en 2016 leur premiere hausse depuis 2011 annee de la crise de la dette dans la zone euro linstabilite politique et la faiblesse du secteur bancaire en particulier en italie a contribue a cette remontee des couts de financement\\nla plupart des experts estiment que la chute des taux a desormais ete enrayee meme sils nanticipent pas de remontee rapide qui serait un frein a la croissance economique en europe le bce devrait poursuivre une politique accommodante tandis que la fed americaine devrait continuer a relever graduellement ses taux sauf en cas de ralentissement inattendu de leconomie americaine et mondiale le marche des taux devrait toutefois se montrer encore volatil ces prochains mois a mesure que seront devoiles les projets de politique economique et commerciale du president donald trump qui prendra ses fonctions le 20 janvier prochain\\nles annonces de campagne de m trump relance budgetaire baisse dimpots et de la reglementation protectionnisme sont plutot de nature a creer un environnement dinflation plus elevee ce qui entretiendrait des taux dinterets plus eleves ainsi quun dollar fort m trump prevoit de baisser les impots pour les particuliers comme pour les entreprises tout en augmentant fortement les investissements publics dans la defense et les grands travaux dinfrastructures un tel programme devrait dune part stimuler la consommation et attiser linflation et dautre part entrainer un vif accroissement de lendettement de letat avec un afflux demissions obligataires a la cle cet environnement de hausse de loffre serait de nature a faire baisser les cours et remonter mecaniquement les taux\\ncomme en 2016 la fed devra piloter a vue\\nde son cote la fed a laisse entendre le 14 decembre quelle sappretait a relever trois fois son taux des fed funds courant 2017 ce qui les porterait dans une fourchette 125 a 150 dans un an la realisation de ce calendrier dependra cependant de nombreux facteurs que la fed ne maitrise pas a commencer par la nouvelle politique economique de ladministration trump\\nrappelons quen 2016 la fed avait aussi initialement prevu de relever ses taux trois fois mais en raison de nombreux facteurs de risques qui ont emaille lannee turbulences boursieres craintes sur la chine brexit elle na finalement agi quune seule fois en decembre un an apres avoir entame son cycle haussier la hausse du dollar qui evolue pres de ses plus hauts niveaux depuis plus de 13 ans face a un panier de devises mondiales pourrait etre un obstacle aux futures actions de la fed les exportations et la croissance economique americaine souffriraient des effets dun dollar trop vigoureux pendant une periode prolongee\\n']\n"
     ]
    }
   ],
   "source": [
    "# Suppression des accents dans les documents du corpus\n",
    "corpus_no_accents = [unidecode(doc) for doc in corpus_cleaned]\n",
    "print(corpus_no_accents) "
   ]
  },
  {
   "cell_type": "code",
   "execution_count": 49,
   "id": "e1d55c95-7bbd-43c8-8d74-c8645927dcfd",
   "metadata": {
    "scrolled": true
   },
   "outputs": [
    {
     "name": "stdout",
     "output_type": "stream",
     "text": [
      "['\\nsur les marches de taux dinteret lannee annee restera marquee dune pierre blanche comme celle ou les taux dinterets servis par les obligations sont tombes massivement en terrain negatif un evenement unique dans lhistoire par son ampleur\\nainsi le montant des obligations servant des taux negatifs depassait en cette fin dannee les 10000 milliards de dollars dans le monde apres avoir atteint plus de 13000 milliards en cours dannee\\n\\nen dautres termes les acheteurs de ces obligations au lieu de percevoir une remuneration sous forme de taux dinteret seront au contraire perdants sils conservent leurs titres jusqua leur date de remboursement\\nplutot que sur le rendement ils ont ainsi parie sur la poursuite de la hausse des cours des obligations ce qui leur permettrait de revendre leurs titres avec une plusvalue avant leur arrivee a echeance\\ncette strategie est toutefois bien plus risquee et pourrait entrainer de tres lourdes pertes en cas de retournement a la baisse des cours des obligations\\n\\ncette situation anormale a ete provoquee par les politiques ultraaccommodantes des banques centrales depuis la crise financiere mondiale de annee\\nles taux dinterets mondiaux nont cesse de chuter depuis cette crise accompagnant la politique de taux zero de nombreuses banques centrales\\nde leur cote les cours des obligations qui evoluent a linverse des taux dinterets ont flambe sous leffet dune forte demande dactifs consideres comme des valeursrefuge\\nles obligations en particulier celles emises par les etats les plus solides etatsunis allemagne france sont jugees bien moins risquees que les investissements en actions\\n\\nen annee le renforcement par la bce de sa politique dassouplissement quantitatif a encore augmente la pression sur les taux\\nle 10 mars la banque centrale europeenne a abaisse son taux de depot a 04 et son taux de refinancement a 0\\nla bce a en outre porte de 60 a 80 milliards deuros le montant de ses achats dactifs sur les marches financiers jusquen mars annee\\nle montant de ces achats obligataires sera ensuite reduit a 60 mdse mais le programme sera tout de meme prolonge au moins jusqua la fin annee\\n\\nen juin dernier le vote des britanniques en faveur du brexit a encore accelere lafflux de capitaux vers les obligations envoyant de nombreux taux vers leurs plus bas niveaux historiques\\nainsi quelques semaines apres le referendum britannique en juillet le taux de lemprunt detat allemand bund a 10 ans est tombe a un plus bas de tous les temps a 015 tandis que le taux japonais a 10 ans a atteint 029\\nle rendement de loat francaise a 10 ans a chute a 009 et le tbond americain a 10 ans a 136\\n\\nface a cette situation extreme les critiques se sont multipliees attirant lattention sur les risques eleves que font courir a moyen terme les taux negatifs sur le systeme financier mondial\\na premiere vue des taux tres bas voire negatifs sont une bonne nouvelle pour leconomie  ils ont ainsi soutenu le marche immobilier notamment en france ou les taux des emprunts hypothecaires ont atteint des plus bas historiques cette annee permettant a de nombreux menages de pouvoir acceder a la propriete\\nde meme les taux bas favorisent lacces au credit des entreprises ce qui est de nature a relancer les investissements et lemploi\\n\\nsils sont un cadeau fait aux acteurs economiques qui sendettent les taux negatifs sont en revanche une malediction pour ceux dont les revenus sont derives des revenus de leurs placements financiers\\nles premieres victimes des taux bas sont ainsi les banques dont le metier consiste a emprunter a taux tres bas et a preter a des taux plus eleves\\nla chute des taux et la reduction de lecart entre les taux longs et courts pesent sur les benefices des etablissements bancaires\\ncertaines banques en allemagne ont meme commence a facturer a leurs clients leurs comptes de depot\\nla baisse des taux a egalement lamine les rendements de tous les produits depargne livrets assurancevie fonds de retraite etc et met en danger le versement des futures retraites dans les pays qui disposent de fonds de pension\\n\\nen juin un des meilleurs specialistes mondiaux des marches obligataires bill gross avait tire la sonnette dalarme sur la formation dune bulle obligataire\\nlinvestisseur americain fondateur du celebre fond obligataire pimco et desormais patron du fonds janus capital soulignait que les taux dinterets mondiaux etaient tombes au plus bas depuis 500 ans dhistorique connu\\nbill gross comparait le marche obligataire mondial a une supernova qui explosera un jour causant de gros degats lorsque les taux se mettront a remonter\\n\\ncette remontee des taux semble dailleurs se profiler a la fin de lannee annee sous le double impact de lelection surprise de donald trump a la presidence des etatsunis le 8 novembre suivie de la hausse des taux directeurs de la fed decidee le 14 decembre\\nces deux evenements ont donne le signal dun rebond des taux aux etatsunis qui sest repercute dans le monde entier\\nau 30 decembre les taux a 10 ans sont desormais remontes en allemagne a 020 en france a 068 au japon a 004 et aux etatsunis a 245\\nles taux restent cependant proches de leurs plus bas historiques  les taux souverains allemands et japonais restent ainsi negatifs jusqua lecheance de 8 ans inclus tandis que ceux de la france ont un rendement negatif jusqua echeance de 6 ans\\naux etatsunis les rendements sont en revanche positifs sur toute la courbe des taux  041 a un mois\\n\\nau 30 decembre les taux a 10 ans sont desormais remontes en allemagne a 020 en france a 068 au japon a 004 et aux etatsunis a 245 les taux restent cependant proches de leurs plus bas historiques  les taux souverains allemands et japonais restent ainsi negatifs jusqua lecheance de 8 ans inclus tandis que ceux de la france ont un rendement negatif jusqua echeance de 6 ans aux etatsunis les rendements sont en revanche positifs sur toute la courbe des taux  041 a un mois 245 a 10 ans et 305 a 30 ans\\nen europe les taux italiens et portugais ont meme connu en annee leur premiere hausse depuis annee annee de la crise de la dette dans la zone euro linstabilite politique et la faiblesse du secteur bancaire en particulier en italie a contribue a cette remontee des couts de financement\\nla plupart des experts estiment que la chute des taux a desormais ete enrayee meme sils nanticipent pas de remontee rapide qui serait un frein a la croissance economique en europe le bce devrait poursuivre une politique accommodante tandis que la fed americaine devrait continuer a relever graduellement ses taux sauf en cas de ralentissement inattendu de leconomie americaine et mondiale le marche des taux devrait toutefois se montrer encore volatil ces prochains mois a mesure que seront devoiles les projets de politique economique et commerciale du president donald trump qui prendra ses fonctions le 20 janvier prochain\\nles annonces de campagne de m trump relance budgetaire baisse dimpots et de la reglementation protectionnisme sont plutot de nature a creer un environnement dinflation plus elevee ce qui entretiendrait des taux dinterets plus eleves ainsi quun dollar fort m trump prevoit de baisser les impots pour les particuliers comme pour les entreprises tout en augmentant fortement les investissements publics dans la defense et les grands travaux dinfrastructures un tel programme devrait dune part stimuler la consommation et attiser linflation et dautre part entrainer un vif accroissement de lendettement de letat avec un afflux demissions obligataires a la cle cet environnement de hausse de loffre serait de nature a faire baisser les cours et remonter mecaniquement les taux\\ncomme en annee la fed devra piloter a vue\\nde son cote la fed a laisse entendre le 14 decembre quelle sappretait a relever trois fois son taux des fed funds courant annee ce qui les porterait dans une fourchette 125 a 150 dans un an la realisation de ce calendrier dependra cependant de nombreux facteurs que la fed ne maitrise pas a commencer par la nouvelle politique economique de ladministration trump\\nrappelons quen annee la fed avait aussi initialement prevu de relever ses taux trois fois mais en raison de nombreux facteurs de risques qui ont emaille lannee turbulences boursieres craintes sur la chine brexit elle na finalement agi quune seule fois en decembre un an apres avoir entame son cycle haussier la hausse du dollar qui evolue pres de ses plus hauts niveaux depuis plus de 13 ans face a un panier de devises mondiales pourrait etre un obstacle aux futures actions de la fed les exportations et la croissance economique americaine souffriraient des effets dun dollar trop vigoureux pendant une periode prolongee\\n']\n"
     ]
    }
   ],
   "source": [
    "# Transformation de toutes les suites de 4 chiffres en \"annee\"\n",
    "corpus_transformed = [re.sub(r'\\b[0-9]{4}\\b', 'annee', doc) for doc in corpus_no_accents]\n",
    "print(corpus_transformed)  "
   ]
  },
  {
   "cell_type": "markdown",
   "id": "a8845207-13a1-4ffa-a776-efe6df11d5b4",
   "metadata": {},
   "source": [
    "#### c) Suppression des stopwords"
   ]
  },
  {
   "cell_type": "code",
   "execution_count": 50,
   "id": "1a6ec789-5aa7-42fe-9be9-57adbddbb97f",
   "metadata": {},
   "outputs": [],
   "source": [
    "# Définition de la liste de stop words considérés (celle de spacy)\n",
    "stopWords = ['a', 'abord', 'absolument', 'afin', 'ah', 'ai', 'aie', 'ailleurs', 'ainsi', 'ait', 'allaient', 'allo', 'allons', \n",
    "             'allô', 'alors', 'anterieur', 'anterieure', 'anterieures', 'apres', 'après', 'as', 'assez', 'attendu', 'au', \n",
    "             'aucun', 'aucune', 'aujourd', \"aujourd'hui\", 'aupres', 'auquel', 'aura', 'auraient', 'aurait', 'auront', 'aussi', \n",
    "             'autre', 'autrefois', 'autrement', 'autres', 'autrui', 'aux', 'auxquelles', 'auxquels', 'avaient', 'avais', 'avait', \n",
    "             'avant', 'avec', 'avoir', 'avons', 'ayant', 'bah', 'bas', 'basee', 'bat', 'beau', 'beaucoup', 'bien', 'bigre', 'boum', \n",
    "             'bravo', 'brrr', \"c'\", 'car', 'ce', 'ceci', 'cela', 'celle', 'celle-ci', 'celle-là', 'celles', 'celles-ci', 'celles-là', \n",
    "             'celui', 'celui-ci', 'celui-là', 'cent', 'cependant', 'certain', 'certaine', 'certaines', 'certains', 'certes', 'ces', \n",
    "             'cet', 'cette', 'ceux', 'ceux-ci', 'ceux-là', 'chacun', 'chacune', 'chaque', 'cher', 'chers', 'chez', 'chiche', 'chut', \n",
    "             'chère', 'chères', 'ci', 'cinq', 'cinquantaine', 'cinquante', 'cinquantième', 'cinquième', 'clac', 'clic', 'combien', \n",
    "             'comme', 'comment', 'comparable', 'comparables', 'compris', 'concernant', 'contre', 'couic', 'crac', 'c’', \"d'\", 'da', \n",
    "             'dans', 'de', 'debout', 'dedans', 'dehors', 'deja', 'delà', 'depuis', 'dernier', 'derniere', 'derriere', 'derrière', \n",
    "             'des', 'desormais', 'desquelles', 'desquels', 'dessous', 'dessus', 'deux', 'deuxième', 'deuxièmement', 'devant', 'devers', \n",
    "             'devra', 'different', 'differentes', 'differents', 'différent', 'différente', 'différentes', 'différents', 'dire', \n",
    "             'directe', 'directement', 'dit', 'dite', 'dits', 'divers', 'diverse', 'diverses', 'dix', 'dix-huit', 'dix-neuf', \n",
    "             'dix-sept', 'dixième', 'doit', 'doivent', 'donc', 'dont', 'douze', 'douzième', 'dring', 'du', 'duquel', 'durant', 'dès', \n",
    "             'désormais', 'd’', 'effet', 'egale', 'egalement', 'egales', 'eh', 'elle', 'elle-même', 'elles', 'elles-mêmes', 'en', \n",
    "             'encore', 'enfin', 'entre', 'envers', 'environ', 'es', 'est', 'et', 'etaient', 'etais', 'etait', 'etant', 'etc', 'etre', \n",
    "             'eu', 'euh', 'eux', 'eux-mêmes', 'exactement', 'excepté', 'extenso', 'exterieur', 'fais', 'faisaient', 'faisant', 'fait', \n",
    "             'façon', 'feront', 'fi', 'flac', 'floc', 'font', 'gens', 'ha', 'hein', 'hem', 'hep', 'hi', 'ho', 'holà', 'hop', 'hormis', \n",
    "             'hors', 'hou', 'houp', 'hue', 'hui', 'huit', 'huitième', 'hum', 'hurrah', 'hé', 'hélas', 'i', 'il', 'ils', 'importe', \n",
    "             \"j'\", 'je', 'jusqu', 'jusque', 'juste', 'j’', \"l'\", 'la', 'laisser', 'laquelle', 'las', 'le', 'lequel', 'les', \n",
    "             'lesquelles', 'lesquels', 'leur', 'leurs', 'longtemps', 'lors', 'lorsque', 'lui', 'lui-meme', 'lui-même', 'là', 'lès', 'l’', \n",
    "             \"m'\", 'ma', 'maint', 'maintenant', 'mais', 'malgre', 'malgré', 'maximale', 'me', 'meme', 'memes', 'merci', 'mes', 'mien', 'mienne', \n",
    "             'miennes', 'miens', 'mille', 'mince', 'minimale', 'moi', 'moi-meme', 'moi-même', 'moindres', 'moins', 'mon', \n",
    "             'moyennant', 'même', 'mêmes', 'm’', \"n'\", 'na', 'naturel', 'naturelle', 'naturelles', 'ne', 'neanmoins', 'necessaire', \n",
    "             'necessairement', 'neuf', 'neuvième', 'ni', 'nombreuses', 'nombreux', 'non', 'nos', 'notamment', 'notre', 'nous', 'nous-mêmes', \n",
    "             'nouveau', 'nul', 'néanmoins', 'nôtre', 'nôtres', 'n’', 'o', 'oh', 'ohé', 'ollé', 'olé', 'on', 'ont', 'onze', 'onzième', 'ore', \n",
    "             'ou', 'ouf', 'ouias', 'oust', 'ouste', 'outre', 'ouvert', 'ouverte', 'ouverts', 'où', 'paf', 'pan', 'par', 'parce', 'parfois', \n",
    "             'parle', 'parlent', 'parler', 'parmi', 'parseme', 'partant', 'particulier', 'particulière', 'particulièrement', 'pas', 'passé', \n",
    "             'pendant', 'pense', 'permet', 'personne', 'peu', 'peut', 'peuvent', 'peux', 'pff', 'pfft', 'pfut', 'pif', 'pire', 'plein', 'plouf', \n",
    "             'plus', 'plusieurs', 'plutôt', 'possessif', 'possessifs', 'possible', 'possibles', 'pouah', 'pour', 'pourquoi', 'pourrais', 'pourrait', \n",
    "             'pouvait', 'prealable', 'precisement', 'premier', 'première', 'premièrement', 'pres', 'probable', 'probante', 'procedant', 'proche', \n",
    "             'près', 'psitt', 'pu', 'puis', 'puisque', 'pur', 'pure', \"qu'\", 'quand', 'quant', 'quant-à-soi', 'quanta', 'quarante', 'quatorze', \n",
    "             'quatre', 'quatre-vingt', 'quatrième', 'quatrièmement', 'que', 'quel', 'quelconque', 'quelle', 'quelles', \"quelqu'un\", 'quelque', \n",
    "             'quelques', 'quels', 'qui', 'quiconque', 'quinze', 'quoi', 'quoique', 'qu’', 'rare', 'rarement', 'rares', 'relative', 'relativement', \n",
    "             'remarquable', 'rend', 'rendre', 'restant', 'reste', 'restent', 'restrictif', 'retour', 'revoici', 'revoilà', 'rien', \"s'\", 'sa', \n",
    "             'sacrebleu', 'sait', 'sans', 'sapristi', 'sauf', 'se', 'sein', 'seize', 'selon', 'semblable', 'semblaient', 'semble', 'semblent', \n",
    "             'sent', 'sept', 'septième', 'sera', 'seraient', 'serait', 'seront', 'ses', 'seul', 'seule', 'seulement', 'si', 'sien', 'sienne', \n",
    "             'siennes', 'siens', 'sinon', 'six', 'sixième', 'soi', 'soi-même', 'soit', 'soixante', 'son', 'sont', 'sous', 'souvent', 'specifique', \n",
    "             'specifiques', 'speculatif', 'stop', 'strictement', 'subtiles', 'suffisant', 'suffisante', 'suffit', 'suis', 'suit', 'suivant', \n",
    "             'suivante', 'suivantes', 'suivants', 'suivre', 'superpose', 'sur', 'surtout', 's’', \"t'\", 'ta', 'tac', 'tant', 'tardive', 'te', \n",
    "             'tel', 'telle', 'tellement', 'telles', 'tels', 'tenant', 'tend', 'tenir', 'tente', 'tes', 'tic', 'tien', 'tienne', 'tiennes', \n",
    "             'tiens', 'toc', 'toi', 'toi-même', 'ton', 'touchant', 'toujours', 'tous', 'tout', 'toute', 'toutefois', 'toutes', 'treize', 'trente', \n",
    "             'tres', 'trois', 'troisième', 'troisièmement', 'trop', 'très', 'tsoin', 'tsouin', 'tu', 'té', 't’', 'un', 'une', 'unes', \n",
    "             'uniformement', 'unique', 'uniques', 'uns', 'va', 'vais', 'vas', 'vers', 'via', 'vif', 'vifs', 'vingt', 'vivat', 'vive', 'vives', \n",
    "             'vlan', 'voici', 'voilà', 'vont', 'vos', 'votre', 'vous', 'vous-mêmes', 'vu', 'vé', 'vôtre', 'vôtres', 'zut', 'à', 'â', 'ça', 'ès', \n",
    "             'étaient', 'étais', 'était', 'étant', 'été', 'être', 'ô', 'a', 'b', 'c', 'd', 'e', 'f', 'g', 'h', 'i', 'j', 'k', 'l', 'm', 'n', 'o', \n",
    "             'p', 'q', 'r', 's', 't', 'u', 'v', 'w', 'x', 'y', 'z', 'qu']\n",
    "\n",
    "stopWords = [unidecode(sw) for sw in stopWords]"
   ]
  },
  {
   "cell_type": "code",
   "execution_count": 51,
   "id": "517ff0cc-3cd6-4d9c-9a5e-456a94755d9a",
   "metadata": {
    "scrolled": true
   },
   "outputs": [
    {
     "name": "stdout",
     "output_type": "stream",
     "text": [
      "['marches taux dinteret lannee annee restera marquee dune pierre blanche taux dinterets servis obligations tombes massivement terrain negatif evenement lhistoire ampleur montant obligations servant taux negatifs depassait fin dannee 10000 milliards dollars monde atteint 13000 milliards cours dannee dautres termes acheteurs obligations lieu percevoir remuneration forme taux dinteret contraire perdants sils conservent titres jusqua date remboursement rendement parie poursuite hausse cours obligations permettrait revendre titres plusvalue arrivee echeance strategie risquee entrainer lourdes pertes cas retournement baisse cours obligations situation anormale provoquee politiques ultraaccommodantes banques centrales crise financiere mondiale annee taux dinterets mondiaux nont cesse chuter crise accompagnant politique taux zero banques centrales cote cours obligations evoluent linverse taux dinterets flambe leffet dune forte demande dactifs consideres valeursrefuge obligations emises etats solides etatsunis allemagne france jugees risquees investissements actions annee renforcement bce politique dassouplissement quantitatif augmente pression taux 10 mars banque centrale europeenne abaisse taux depot 04 taux refinancement 0 bce porte 60 80 milliards deuros montant achats dactifs marches financiers jusquen mars annee montant achats obligataires ensuite reduit 60 mdse programme prolonge jusqua fin annee juin vote britanniques faveur brexit accelere lafflux capitaux obligations envoyant taux niveaux historiques semaines referendum britannique juillet taux lemprunt detat allemand bund 10 ans tombe temps 015 tandis taux japonais 10 ans atteint 029 rendement loat francaise 10 ans chute 009 tbond americain 10 ans 136 face situation extreme critiques multipliees attirant lattention risques eleves courir moyen terme taux negatifs systeme financier mondial vue taux voire negatifs bonne nouvelle leconomie soutenu marche immobilier france taux emprunts hypothecaires atteint historiques annee permettant menages pouvoir acceder propriete taux favorisent lacces credit entreprises nature relancer investissements lemploi sils cadeau acteurs economiques sendettent taux negatifs revanche malediction revenus derives revenus placements financiers premieres victimes taux banques metier consiste emprunter taux preter taux eleves chute taux reduction lecart taux longs courts pesent benefices etablissements bancaires banques allemagne commence facturer clients comptes depot baisse taux lamine rendements produits depargne livrets assurancevie fonds retraite met danger versement futures retraites pays disposent fonds pension juin meilleurs specialistes mondiaux marches obligataires bill gross tire sonnette dalarme formation dune bulle obligataire linvestisseur americain fondateur celebre fond obligataire pimco patron fonds janus capital soulignait taux dinterets mondiaux tombes 500 ans dhistorique connu bill gross comparait marche obligataire mondial supernova explosera jour causant gros degats taux mettront remonter remontee taux dailleurs profiler fin lannee annee double impact lelection surprise donald trump presidence etatsunis 8 novembre suivie hausse taux directeurs fed decidee 14 decembre evenements donne signal dun rebond taux etatsunis sest repercute monde entier 30 decembre taux 10 ans remontes allemagne 020 france 068 japon 004 etatsunis 245 taux proches historiques taux souverains allemands japonais negatifs jusqua lecheance 8 ans inclus tandis france rendement negatif jusqua echeance 6 ans etatsunis rendements revanche positifs courbe taux 041 mois 30 decembre taux 10 ans remontes allemagne 020 france 068 japon 004 etatsunis 245 taux proches historiques taux souverains allemands japonais negatifs jusqua lecheance 8 ans inclus tandis france rendement negatif jusqua echeance 6 ans etatsunis rendements revanche positifs courbe taux 041 mois 245 10 ans 305 30 ans europe taux italiens portugais connu annee hausse annee annee crise dette zone euro linstabilite politique faiblesse secteur bancaire italie contribue remontee couts financement plupart experts estiment chute taux enrayee sils nanticipent remontee rapide frein croissance economique europe bce devrait poursuivre politique accommodante tandis fed americaine devrait continuer relever graduellement taux cas ralentissement inattendu leconomie americaine mondiale marche taux devrait montrer volatil prochains mois mesure devoiles projets politique economique commerciale president donald trump prendra fonctions 20 janvier prochain annonces campagne trump relance budgetaire baisse dimpots reglementation protectionnisme nature creer environnement dinflation elevee entretiendrait taux dinterets eleves quun dollar fort trump prevoit baisser impots particuliers entreprises augmentant fortement investissements publics defense grands travaux dinfrastructures programme devrait dune part stimuler consommation attiser linflation dautre part entrainer accroissement lendettement letat afflux demissions obligataires cle environnement hausse loffre nature faire baisser cours remonter mecaniquement taux annee fed piloter vue cote fed laisse entendre 14 decembre sappretait relever fois taux fed funds courant annee porterait fourchette 125 150 an realisation calendrier dependra facteurs fed maitrise commencer nouvelle politique economique ladministration trump rappelons quen annee fed initialement prevu relever taux fois raison facteurs risques emaille lannee turbulences boursieres craintes chine brexit finalement agi quune fois decembre an entame cycle haussier hausse dollar evolue hauts niveaux 13 ans face panier devises mondiales obstacle futures actions fed exportations croissance economique americaine souffriraient effets dun dollar vigoureux periode prolongee']\n"
     ]
    }
   ],
   "source": [
    "# Suppression des stopwords du corpus\n",
    "corpus_cleaned_stopwords = [' '.join([word for word in doc.split() if word not in stopWords]) for doc in corpus_transformed]\n",
    "print(corpus_cleaned_stopwords)"
   ]
  },
  {
   "cell_type": "markdown",
   "id": "8ea43ff0-be81-4832-9124-a1e26f11166a",
   "metadata": {},
   "source": [
    "# II- Stemmatisation"
   ]
  },
  {
   "cell_type": "markdown",
   "id": "fb137585-d0e2-45cb-88f2-a0ab81ced727",
   "metadata": {},
   "source": [
    "La **stemmatisation** consiste à réduire les mots à leur racine ou base lexicale commune, afin de regrouper différentes formes grammaticales (par exemple, \"courir\", \"courait\", et \"couru\" sont réduits à \"cour\").\n"
   ]
  },
  {
   "cell_type": "code",
   "execution_count": 52,
   "id": "bd1cc3d0-5850-4f3a-9887-cc6f57092b7b",
   "metadata": {},
   "outputs": [
    {
     "name": "stdout",
     "output_type": "stream",
     "text": [
      "['march taux dinteret lanne anne rest marque dun pierr blanch taux dinteret serv oblig tomb massiv terrain negat even lhistoir ampleur mont oblig serv taux negat depass fin danne 10000 milliard dollar mond atteint 13000 milliard cour danne dautr term acheteur oblig lieu percevoir remuner form taux dinteret contrair perd sil conservent titr jusqu dat rembours rend pari poursuit hauss cour oblig permettr revendr titr plusvalu arrive echeanc strateg risque entrain lourd pert cas retourn baiss cour oblig situat anormal provoque polit ultraaccommod banqu central cris financier mondial anne taux dinteret mondial nont cess chut cris accompagn polit taux zero banqu central cot cour oblig evoluent linvers taux dinteret flamb leffet dun fort demand dactif consider valeursrefug oblig emis etat solid etatsun allemagn franc juge risque invest action anne renforc bce polit dassoupl quantit augment pression taux 10 mar banqu central europeen abaiss taux depot 04 taux refinanc 0 bce port 60 80 milliard deuros mont achat dactif march financi jusquen mar anne mont achat obligatair ensuit reduit 60 mdse programm prolong jusqu fin anne juin vot britann faveur brex acceler lafflux capital oblig envoi taux niveau histor semain referendum britann juillet taux lemprunt detat allemand bund 10 an tomb temp 015 tand taux japon 10 an atteint 029 rend loat francais 10 an chut 009 tbond americain 10 an 136 fac situat extrem critiqu multiplie attir lattent risqu elev cour moyen term taux negat system financi mondial vu taux voir negat bon nouvel leconom soutenu march immobili franc taux emprunt hypothecair atteint histor anne permet menag pouvoir acced propriet taux favorisent lacc cred entrepris natur relanc invest lemploi sil cadeau acteur econom sendettent taux negat revanch maledict revenus deriv revenus plac financi premier victim taux banqu meti consist emprunt taux pret taux elev chut taux reduct lecart taux long court pesent benefic etabl bancair banqu allemagn commenc factur client compt depot baiss taux lamin rend produit depargn livret assurancev fond retrait met dang vers futur retrait pay disposent fond pension juin meilleur special mondial march obligatair bill gross tir sonnet dalarm format dun bull obligatair linvestisseur americain fondateur celebr fond obligatair pimco patron fond janus capital soulign taux dinteret mondial tomb 500 an dhistor connu bill gross compar march obligatair mondial supernov explos jour caus gros degat taux mettront remont remonte taux dailleur profil fin lanne anne doubl impact lelect surpris donald trump president etatsun 8 novembr suiv hauss taux directeur fed decide 14 decembr even don signal dun rebond taux etatsun sest repercut mond enti 30 decembr taux 10 an remont allemagn 020 franc 068 japon 004 etatsun 245 taux proch histor taux souverain allemand japon negat jusqu lecheanc 8 an inclus tand franc rend negat jusqu echeanc 6 an etatsun rend revanch posit courb taux 041 mois 30 decembr taux 10 an remont allemagn 020 franc 068 japon 004 etatsun 245 taux proch histor taux souverain allemand japon negat jusqu lecheanc 8 an inclus tand franc rend negat jusqu echeanc 6 an etatsun rend revanch posit courb taux 041 mois 245 10 an 305 30 an europ taux italien portug connu anne hauss anne anne cris det zon euro linstabilit polit faibless secteur bancair ital contribu remonte cout financ plupart expert estiment chut taux enraye sil nanticipent remonte rapid frein croissanc econom europ bce devr poursuivr polit accommod tand fed americain devr continu relev graduel taux cas ralent inattendu leconom americain mondial march taux devr montr volatil prochain mois mesur devoil projet polit econom commercial president donald trump prendr fonction 20 janvi prochain annonc campagn trump relanc budgetair baiss dimpot reglement protection natur cre environ dinflat eleve entretiendr taux dinteret elev quun dollar fort trump prevoit baiss impot particuli entrepris augment fort invest public defens grand traval dinfrastructur programm devr dun part stimul consomm attis linflat dautr part entrain accroissement lendet letat afflux dem obligatair cle environ hauss loffr natur fair baiss cour remont mecan taux anne fed pilot vu cot fed laiss entendr 14 decembr sappret relev fois taux fed fund cour anne port fourchet 125 150 an realis calendri dependr facteur fed maitris commenc nouvel polit econom ladministr trump rappelon quen anne fed initial prevu relev taux fois raison facteur risqu emaill lanne turbulent boursier craint chin brex final agi quun fois decembr an entam cycl haussi hauss dollar evolu haut niveau 13 an fac pani devis mondial obstacl futur action fed export croissanc econom americain souffr effet dun dollar vigour period prolonge']\n"
     ]
    }
   ],
   "source": [
    "# Initialiser le stemmer en français et l'appliquer sur le corpus\n",
    "stemmer = SnowballStemmer('french')\n",
    "\n",
    "corpus_stemmed = [\" \".join([stemmer.stem(word) for word in doc.split()]) for doc in corpus_cleaned_stopwords]\n",
    "print(corpus_stemmed) "
   ]
  },
  {
   "cell_type": "markdown",
   "id": "e9d314a7-db66-40c9-9330-4e35073cbcb3",
   "metadata": {},
   "source": [
    "Par la suite on a chercher à calculer les fréquences des mots dans le corpus stemmatisé, puis utiliser ces fréquences pour générer un nuage de mots où la taille des mots reflète leur occurrence. \n"
   ]
  },
  {
   "cell_type": "code",
   "execution_count": 53,
   "id": "623a329f-5d31-4649-ac49-ece41a504f45",
   "metadata": {},
   "outputs": [
    {
     "name": "stderr",
     "output_type": "stream",
     "text": [
      "2024-12-15 02:20:06.293 Thread 'MainThread': missing ScriptRunContext! This warning can be ignored when running in bare mode.\n",
      "2024-12-15 02:20:06.294 Thread 'MainThread': missing ScriptRunContext! This warning can be ignored when running in bare mode.\n",
      "2024-12-15 02:20:06.322 Thread 'MainThread': missing ScriptRunContext! This warning can be ignored when running in bare mode.\n",
      "2024-12-15 02:20:06.641 Thread 'MainThread': missing ScriptRunContext! This warning can be ignored when running in bare mode.\n",
      "2024-12-15 02:20:06.642 Thread 'MainThread': missing ScriptRunContext! This warning can be ignored when running in bare mode.\n"
     ]
    },
    {
     "data": {
      "text/plain": [
       "DeltaGenerator()"
      ]
     },
     "execution_count": 53,
     "metadata": {},
     "output_type": "execute_result"
    }
   ],
   "source": [
    "# Calculer la fréquence des mots dans le corpus stemmatisé\n",
    "words_stemmed = \" \".join(corpus_stemmed).split()  # Fusionner le corpus et le diviser en mots\n",
    "word_counts = Counter(words_stemmed)  # Calculer les fréquences des mots\n",
    "word_freq_df = pd.DataFrame(word_counts.items(), columns=[\"word\", \"frequency\"]).sort_values(by=\"frequency\", ascending=False)\n",
    "\n",
    "# Créer un dictionnaire de fréquences des mots\n",
    "word_freq_dict = dict(zip(word_freq_df['word'], word_freq_df['frequency']))\n",
    "\n",
    "# Générer le nuage de mots\n",
    "wordcloud = WordCloud(\n",
    "    width=800,\n",
    "    height=400,\n",
    "    background_color='white',\n",
    "    colormap='viridis',\n",
    "    max_words=50  # Limiter aux 50 mots les plus fréquents\n",
    ").generate_from_frequencies(word_freq_dict)\n",
    "\n",
    "# Afficher le nuage de mots dans le notebook, désactivé ici pour le faire apparaitre dans l'application.\n",
    "# plt.figure(figsize=(10, 6))\n",
    "# plt.imshow(wordcloud, interpolation='bilinear')\n",
    "# plt.axis('off')  # Désactiver les axes pour une meilleure lisibilité\n",
    "# plt.title(\"Nuage de mots (avec stemmatisation)\", fontsize=16)\n",
    "# plt.show()\n",
    "\n",
    "st.subheader(\"Nuage de mots (avec stemmatisation)\")\n",
    "fig, ax = plt.subplots(figsize=(10, 6))\n",
    "ax.imshow(wordcloud, interpolation='bilinear')\n",
    "ax.axis('off')  # Désactiver les axes pour une meilleure lisibilité\n",
    "ax.set_title(\"Nuage de mots (avec stemmatisation)\", fontsize=16)\n",
    "st.pyplot(fig)"
   ]
  },
  {
   "cell_type": "markdown",
   "id": "81f4181f-035d-472e-8611-fb79716fb338",
   "metadata": {},
   "source": [
    "Les mots qui ressortent le plus sont \"taux\", \"anne\", \"mondial\", \"fed\", et \"negat\", reflétant les thèmes centraux du texte.\n"
   ]
  },
  {
   "cell_type": "markdown",
   "id": "54b18336",
   "metadata": {},
   "source": [
    "# III- Vectorisation"
   ]
  },
  {
   "cell_type": "markdown",
   "id": "3d7d98ba",
   "metadata": {},
   "source": [
    "#### a) Le vocabulaire"
   ]
  },
  {
   "cell_type": "markdown",
   "id": "03b9ffa8",
   "metadata": {},
   "source": [
    "On repart des documents nettoyés et on crée le vocabulaire contenant tous les mots uniques présents dans le corpus.\n",
    "Ainsi, on représente chaque document comme un vecteur de taille V (où V est la taille de notre vocabulaire).\n",
    "\n"
   ]
  },
  {
   "cell_type": "code",
   "execution_count": 54,
   "id": "cb8e84d5",
   "metadata": {
    "scrolled": true
   },
   "outputs": [
    {
     "name": "stdout",
     "output_type": "stream",
     "text": [
      "Ci-dessous, la liste de mots présents dans le corpus : \n",
      "['march', 'taux', 'dinteret', 'lanne', 'anne', 'rest', 'marque', 'dun', 'pierr', 'blanch', 'taux', 'dinteret', 'serv', 'oblig', 'tomb', 'massiv', 'terrain', 'negat', 'even', 'lhistoir', 'ampleur', 'mont', 'oblig', 'serv', 'taux', 'negat', 'depass', 'fin', 'danne', '10000', 'milliard', 'dollar', 'mond', 'atteint', '13000', 'milliard', 'cour', 'danne', 'dautr', 'term', 'acheteur', 'oblig', 'lieu', 'percevoir', 'remuner', 'form', 'taux', 'dinteret', 'contrair', 'perd', 'sil', 'conservent', 'titr', 'jusqu', 'dat', 'rembours', 'rend', 'pari', 'poursuit', 'hauss', 'cour', 'oblig', 'permettr', 'revendr', 'titr', 'plusvalu', 'arrive', 'echeanc', 'strateg', 'risque', 'entrain', 'lourd', 'pert', 'cas', 'retourn', 'baiss', 'cour', 'oblig', 'situat', 'anormal', 'provoque', 'polit', 'ultraaccommod', 'banqu', 'central', 'cris', 'financier', 'mondial', 'anne', 'taux', 'dinteret', 'mondial', 'nont', 'cess', 'chut', 'cris', 'accompagn', 'polit', 'taux', 'zero', 'banqu', 'central', 'cot', 'cour', 'oblig', 'evoluent', 'linvers', 'taux', 'dinteret', 'flamb', 'leffet', 'dun', 'fort', 'demand', 'dactif', 'consider', 'valeursrefug', 'oblig', 'emis', 'etat', 'solid', 'etatsun', 'allemagn', 'franc', 'juge', 'risque', 'invest', 'action', 'anne', 'renforc', 'bce', 'polit', 'dassoupl', 'quantit', 'augment', 'pression', 'taux', '10', 'mar', 'banqu', 'central', 'europeen', 'abaiss', 'taux', 'depot', '04', 'taux', 'refinanc', '0', 'bce', 'port', '60', '80', 'milliard', 'deuros', 'mont', 'achat', 'dactif', 'march', 'financi', 'jusquen', 'mar', 'anne', 'mont', 'achat', 'obligatair', 'ensuit', 'reduit', '60', 'mdse', 'programm', 'prolong', 'jusqu', 'fin', 'anne', 'juin', 'vot', 'britann', 'faveur', 'brex', 'acceler', 'lafflux', 'capital', 'oblig', 'envoi', 'taux', 'niveau', 'histor', 'semain', 'referendum', 'britann', 'juillet', 'taux', 'lemprunt', 'detat', 'allemand', 'bund', '10', 'an', 'tomb', 'temp', '015', 'tand', 'taux', 'japon', '10', 'an', 'atteint', '029', 'rend', 'loat', 'francais', '10', 'an', 'chut', '009', 'tbond', 'americain', '10', 'an', '136', 'fac', 'situat', 'extrem', 'critiqu', 'multiplie', 'attir', 'lattent', 'risqu', 'elev', 'cour', 'moyen', 'term', 'taux', 'negat', 'system', 'financi', 'mondial', 'vu', 'taux', 'voir', 'negat', 'bon', 'nouvel', 'leconom', 'soutenu', 'march', 'immobili', 'franc', 'taux', 'emprunt', 'hypothecair', 'atteint', 'histor', 'anne', 'permet', 'menag', 'pouvoir', 'acced', 'propriet', 'taux', 'favorisent', 'lacc', 'cred', 'entrepris', 'natur', 'relanc', 'invest', 'lemploi', 'sil', 'cadeau', 'acteur', 'econom', 'sendettent', 'taux', 'negat', 'revanch', 'maledict', 'revenus', 'deriv', 'revenus', 'plac', 'financi', 'premier', 'victim', 'taux', 'banqu', 'meti', 'consist', 'emprunt', 'taux', 'pret', 'taux', 'elev', 'chut', 'taux', 'reduct', 'lecart', 'taux', 'long', 'court', 'pesent', 'benefic', 'etabl', 'bancair', 'banqu', 'allemagn', 'commenc', 'factur', 'client', 'compt', 'depot', 'baiss', 'taux', 'lamin', 'rend', 'produit', 'depargn', 'livret', 'assurancev', 'fond', 'retrait', 'met', 'dang', 'vers', 'futur', 'retrait', 'pay', 'disposent', 'fond', 'pension', 'juin', 'meilleur', 'special', 'mondial', 'march', 'obligatair', 'bill', 'gross', 'tir', 'sonnet', 'dalarm', 'format', 'dun', 'bull', 'obligatair', 'linvestisseur', 'americain', 'fondateur', 'celebr', 'fond', 'obligatair', 'pimco', 'patron', 'fond', 'janus', 'capital', 'soulign', 'taux', 'dinteret', 'mondial', 'tomb', '500', 'an', 'dhistor', 'connu', 'bill', 'gross', 'compar', 'march', 'obligatair', 'mondial', 'supernov', 'explos', 'jour', 'caus', 'gros', 'degat', 'taux', 'mettront', 'remont', 'remonte', 'taux', 'dailleur', 'profil', 'fin', 'lanne', 'anne', 'doubl', 'impact', 'lelect', 'surpris', 'donald', 'trump', 'president', 'etatsun', '8', 'novembr', 'suiv', 'hauss', 'taux', 'directeur', 'fed', 'decide', '14', 'decembr', 'even', 'don', 'signal', 'dun', 'rebond', 'taux', 'etatsun', 'sest', 'repercut', 'mond', 'enti', '30', 'decembr', 'taux', '10', 'an', 'remont', 'allemagn', '020', 'franc', '068', 'japon', '004', 'etatsun', '245', 'taux', 'proch', 'histor', 'taux', 'souverain', 'allemand', 'japon', 'negat', 'jusqu', 'lecheanc', '8', 'an', 'inclus', 'tand', 'franc', 'rend', 'negat', 'jusqu', 'echeanc', '6', 'an', 'etatsun', 'rend', 'revanch', 'posit', 'courb', 'taux', '041', 'mois', '30', 'decembr', 'taux', '10', 'an', 'remont', 'allemagn', '020', 'franc', '068', 'japon', '004', 'etatsun', '245', 'taux', 'proch', 'histor', 'taux', 'souverain', 'allemand', 'japon', 'negat', 'jusqu', 'lecheanc', '8', 'an', 'inclus', 'tand', 'franc', 'rend', 'negat', 'jusqu', 'echeanc', '6', 'an', 'etatsun', 'rend', 'revanch', 'posit', 'courb', 'taux', '041', 'mois', '245', '10', 'an', '305', '30', 'an', 'europ', 'taux', 'italien', 'portug', 'connu', 'anne', 'hauss', 'anne', 'anne', 'cris', 'det', 'zon', 'euro', 'linstabilit', 'polit', 'faibless', 'secteur', 'bancair', 'ital', 'contribu', 'remonte', 'cout', 'financ', 'plupart', 'expert', 'estiment', 'chut', 'taux', 'enraye', 'sil', 'nanticipent', 'remonte', 'rapid', 'frein', 'croissanc', 'econom', 'europ', 'bce', 'devr', 'poursuivr', 'polit', 'accommod', 'tand', 'fed', 'americain', 'devr', 'continu', 'relev', 'graduel', 'taux', 'cas', 'ralent', 'inattendu', 'leconom', 'americain', 'mondial', 'march', 'taux', 'devr', 'montr', 'volatil', 'prochain', 'mois', 'mesur', 'devoil', 'projet', 'polit', 'econom', 'commercial', 'president', 'donald', 'trump', 'prendr', 'fonction', '20', 'janvi', 'prochain', 'annonc', 'campagn', 'trump', 'relanc', 'budgetair', 'baiss', 'dimpot', 'reglement', 'protection', 'natur', 'cre', 'environ', 'dinflat', 'eleve', 'entretiendr', 'taux', 'dinteret', 'elev', 'quun', 'dollar', 'fort', 'trump', 'prevoit', 'baiss', 'impot', 'particuli', 'entrepris', 'augment', 'fort', 'invest', 'public', 'defens', 'grand', 'traval', 'dinfrastructur', 'programm', 'devr', 'dun', 'part', 'stimul', 'consomm', 'attis', 'linflat', 'dautr', 'part', 'entrain', 'accroissement', 'lendet', 'letat', 'afflux', 'dem', 'obligatair', 'cle', 'environ', 'hauss', 'loffr', 'natur', 'fair', 'baiss', 'cour', 'remont', 'mecan', 'taux', 'anne', 'fed', 'pilot', 'vu', 'cot', 'fed', 'laiss', 'entendr', '14', 'decembr', 'sappret', 'relev', 'fois', 'taux', 'fed', 'fund', 'cour', 'anne', 'port', 'fourchet', '125', '150', 'an', 'realis', 'calendri', 'dependr', 'facteur', 'fed', 'maitris', 'commenc', 'nouvel', 'polit', 'econom', 'ladministr', 'trump', 'rappelon', 'quen', 'anne', 'fed', 'initial', 'prevu', 'relev', 'taux', 'fois', 'raison', 'facteur', 'risqu', 'emaill', 'lanne', 'turbulent', 'boursier', 'craint', 'chin', 'brex', 'final', 'agi', 'quun', 'fois', 'decembr', 'an', 'entam', 'cycl', 'haussi', 'hauss', 'dollar', 'evolu', 'haut', 'niveau', '13', 'an', 'fac', 'pani', 'devis', 'mondial', 'obstacl', 'futur', 'action', 'fed', 'export', 'croissanc', 'econom', 'americain', 'souffr', 'effet', 'dun', 'dollar', 'vigour', 'period', 'prolonge']\n",
      "\n",
      "Le vocabulaire est de taille 407\n",
      "Ci-dessous, le vocabulaire (mots uniques) : \n",
      "{'depass', 'mecan', 'dinfrastructur', 'quen', 'pierr', 'rembours', 'revenus', 'dactif', 'negat', 'mar', 'acheteur', 'faibless', 'annonc', '125', 'souverain', 'permet', '0', 'livret', 'financi', 'chin', '13000', 'commenc', 'defens', 'graduel', 'particuli', 'met', 'realis', 'vigour', 'special', 'poursuivr', 'prolonge', 'envoi', 'emis', '80', 'bill', 'refinanc', 'immobili', 'vu', 'attis', 'dependr', 'niveau', 'multiplie', 'haut', 'nouvel', 'connu', '04', 'conservent', 'fond', 'fort', 'lamin', '305', 'contrair', 'vers', 'turbulent', 'janvi', 'victim', '020', 'quantit', 'part', 'evoluent', 'mois', 'cas', 'boursier', 'franc', '14', 'dimpot', 'deriv', 'dun', 'anne', 'acceler', 'leconom', 'disposent', 'calendri', '150', 'remuner', 'risqu', 'contribu', 'econom', 'agi', 'port', 'flamb', 'proch', 'effet', 'form', 'valeursrefug', 'mdse', '009', 'britann', 'retrait', 'tir', 'pani', 'rend', 'reduct', 'milliard', 'decembr', 'prochain', 'linvers', 'raison', 'arrive', 'linvestisseur', 'dhistor', 'plusvalu', 'pression', 'lemprunt', 'cess', 'reduit', 'chut', 'tand', 'cred', 'impot', 'pari', 'nont', 'mettront', 'bon', 'pesent', 'emaill', 'fair', 'polit', 'tbond', 'traval', 'sappret', 'propriet', 'favorisent', 'cycl', 'linstabilit', 'permettr', 'japon', 'achat', 'poursuit', 'banqu', 'budgetair', 'produit', 'referendum', 'ladministr', 'critiqu', 'dalarm', 'system', 'faveur', 'frein', '10', '60', 'lattent', 'dollar', 'accommod', 'term', 'massiv', '13', 'evolu', 'environ', 'continu', 'lemploi', 'final', 'central', 'bund', 'marque', 'blanch', 'trump', 'cadeau', 'tomb', 'president', 'degat', 'atteint', 'semain', 'risque', 'juin', 'assurancev', 'strateg', 'compar', 'portug', 'accroissement', 'grand', 'cre', 'renforc', 'bull', 'jusquen', 'francais', 'quun', 'zero', 'benefic', 'reglement', 'italien', 'financ', 'lafflux', 'americain', 'posit', 'emprunt', 'projet', 'echeanc', 'temp', 'plupart', 'celebr', 'campagn', '20', 'suiv', 'pouvoir', 'cout', 'entrepris', 'lendet', 'cris', 'caus', 'invest', '30', 'juge', 'euro', 'obstacl', 'retourn', 'revanch', 'attir', 'afflux', 'dang', 'premier', 'serv', 'dinteret', 'prendr', 'format', 'dinflat', 'entendr', 'dautr', 'acced', 'estiment', 'taux', 'lelect', 'gros', 'eleve', 'dassoupl', 'explos', 'gross', 'ralent', 'surpris', 'obligatair', 'even', '029', 'meti', 'client', 'deuros', '8', 'janus', 'lecheanc', '10000', 'fed', 'abaiss', 'pret', 'menag', 'natur', 'mond', 'rebond', '041', 'mondial', 'export', 'signal', 'terrain', 'commercial', 'volatil', 'hauss', 'ampleur', 'consider', 'bce', 'europ', 'directeur', 'fourchet', 'rappelon', 'fund', 'financier', 'fonction', 'acteur', '245', 'consist', 'action', 'march', 'croissanc', 'etatsun', 'entretiendr', 'pension', 'accompagn', 'loat', 'lanne', 'lecart', 'dailleur', 'secteur', 'rest', 'patron', 'perd', 'factur', 'montr', 'leffet', 'mesur', 'situat', 'soulign', 'elev', 'souffr', 'relev', 'det', 'mont', 'jour', 'depargn', 'hypothecair', 'bancair', 'expert', 'doubl', 'laiss', 'haussi', 'decide', 'profil', 'nanticipent', 'devr', 'linflat', 'protection', 'inattendu', 'enraye', 'sendettent', 'supernov', 'soutenu', 'public', 'court', 'enti', 'facteur', 'period', 'sonnet', 'pert', 'fac', '6', 'moyen', 'sest', 'lourd', 'plac', 'histor', 'oblig', 'etabl', 'cle', 'ultraaccommod', 'stimul', 'lhistoir', 'provoque', 'revendr', '136', 'baiss', 'remont', 'extrem', '015', 'percevoir', 'fois', 'initial', 'pimco', '004', 'loffr', 'novembr', 'craint', 'lieu', 'brex', 'allemand', 'titr', 'ital', 'solid', 'dat', 'maledict', 'cot', 'voir', 'entam', 'prevoit', 'detat', 'pay', 'rapid', 'letat', 'don', 'pilot', 'zon', 'vot', 'meilleur', 'jusqu', 'demand', 'capital', 'devis', 'courb', 'repercut', 'etat', 'relanc', 'futur', 'ensuit', 'inclus', 'an', 'fin', 'maitris', 'sil', 'cour', 'consomm', 'compt', 'remonte', 'danne', 'augment', 'lacc', 'impact', 'long', 'europeen', 'dem', '068', 'allemagn', 'prolong', 'prevu', 'juillet', 'programm', 'anormal', '500', 'donald', 'depot', 'devoil', 'fondateur', 'entrain'}\n",
      "\n"
     ]
    }
   ],
   "source": [
    "mots = ' '.join(corpus_stemmed) # Concaténation des documents renvoi une chaine de caractères\n",
    "\n",
    "liste_mots = re.findall(r\"\\w+\", mots) # Création de la liste contenant tous les mots de notre corpus\n",
    "print(f\"Ci-dessous, la liste de mots présents dans le corpus : \\n{liste_mots}\\n\")\n",
    "\n",
    "vocab = set(liste_mots)\n",
    "print(f\"Le vocabulaire est de taille {len(vocab)}\")\n",
    "print(f\"Ci-dessous, le vocabulaire (mots uniques) : \\n{vocab}\\n\")\n"
   ]
  },
  {
   "cell_type": "markdown",
   "id": "ec239038",
   "metadata": {},
   "source": [
    "#### b) Le CountVectorizer\n",
    "\n",
    "Dans cette approche l'ordre des mots ne compte pas: Il s'agit d'une représentation matricielle à N lignes (pour N documents) et V colonnes.\n"
   ]
  },
  {
   "cell_type": "code",
   "execution_count": 55,
   "id": "abdcc343",
   "metadata": {
    "scrolled": true
   },
   "outputs": [
    {
     "name": "stdout",
     "output_type": "stream",
     "text": [
      "[[ 2  1  1  2  1  1  2  2  8  1  1  1  1  1  2  1  1  3  3  1  1  2  1  1\n",
      "   1  1  1  1  1  2  1  1  2  1  1  4  3  5  1 16 13  1  1  1  1  3  1  1\n",
      "   2  5  2  5  3  1  2  1  1  1  2  2  1  1  1  1  1  1  2  2  1  1  3  1\n",
      "   1  4  1  1  2  1  1  1  2  1  1  1  1  1  1  1  2  7  2  1  1  1  1  1\n",
      "   3  1  2  1  2  1  1  1  2  1  1  2  5  1  1  1  1  1  1  1  1  2  1  1\n",
      "   1  1  1  1  4  1  1  1  1  7  1  1  4  1  2  1  6  3  5  1  3  1  1  1\n",
      "   2  1  1  1  1  1  2  2  1  2  1  1  1  1  7  1  2  1  2  1  1  1  1  1\n",
      "   1  2  2  1  1  1  1  1  8  3  1  1  3  1  1  3  1  4  1  1  1  3  1  6\n",
      "   1  1  1  2  1  1  1  2  5  1  1  4  1  1  1  1  1  2  1  3  1  1  1  1\n",
      "   5  1  1  1  2  6  1  1  1  1  1  1  3  1  1  2  2  1  1  1  1  1  1  1\n",
      "   1  1  1  1  1  1  1  1  1  1  1  1  2  6  1  1  1  1  1  1  1  1  1  1\n",
      "   3  3  2  8  3  1  1  1  1  3  9  2  1  2  1  8  6  1  1  1  2  1  1  1\n",
      "   1  1  1  1  1  1  1  1  1  1  1  1  1  1  7  2  1  2  1  1  1  1  1  2\n",
      "   1  1  1  1  2  2  1  1  2  1  1  1  1  1  1  1  1  1  2  1  1  1  1  1\n",
      "   1  1  1  1  1  1  2  3  1  4  3  1  7  1  1  1  1  2  3  1  2  2  2  1\n",
      "   1  1  1  2  1  1  3  2  1  1  1  1  1  2  1  1  1  1  1  1  1  4 45  1\n",
      "   1  2  1  1  2  3  1  5  1  1  1  1  1  1  1  1  1  2  1  1]]\n"
     ]
    }
   ],
   "source": [
    "vectorizer = CountVectorizer()  # Initialisation d'un CountVectorizer \n",
    "X = vectorizer.fit_transform(corpus_stemmed)  # Applique un vectoriseur au corpus \n",
    "\n",
    "print(X.toarray())  # Affiche la matrice de comptage des mots où chaque ligne représente un document et chaque colonne un mot unique."
   ]
  },
  {
   "cell_type": "code",
   "execution_count": 56,
   "id": "d4633903",
   "metadata": {
    "scrolled": true
   },
   "outputs": [
    {
     "name": "stdout",
     "output_type": "stream",
     "text": [
      "['004' '009' '015' '020' '029' '04' '041' '068' '10' '10000' '125' '13'\n",
      " '13000' '136' '14' '150' '20' '245' '30' '305' '500' '60' '80' 'abaiss'\n",
      " 'acced' 'acceler' 'accommod' 'accompagn' 'accroissement' 'achat'\n",
      " 'acheteur' 'acteur' 'action' 'afflux' 'agi' 'allemagn' 'allemand'\n",
      " 'americain' 'ampleur' 'an' 'anne' 'annonc' 'anormal' 'arrive'\n",
      " 'assurancev' 'atteint' 'attir' 'attis' 'augment' 'baiss' 'bancair'\n",
      " 'banqu' 'bce' 'benefic' 'bill' 'blanch' 'bon' 'boursier' 'brex' 'britann'\n",
      " 'budgetair' 'bull' 'bund' 'cadeau' 'calendri' 'campagn' 'capital' 'cas'\n",
      " 'caus' 'celebr' 'central' 'cess' 'chin' 'chut' 'cle' 'client' 'commenc'\n",
      " 'commercial' 'compar' 'compt' 'connu' 'conservent' 'consider' 'consist'\n",
      " 'consomm' 'continu' 'contrair' 'contribu' 'cot' 'cour' 'courb' 'court'\n",
      " 'cout' 'craint' 'cre' 'cred' 'cris' 'critiqu' 'croissanc' 'cycl' 'dactif'\n",
      " 'dailleur' 'dalarm' 'dang' 'danne' 'dassoupl' 'dat' 'dautr' 'decembr'\n",
      " 'decide' 'defens' 'degat' 'dem' 'demand' 'depargn' 'depass' 'dependr'\n",
      " 'depot' 'deriv' 'det' 'detat' 'deuros' 'devis' 'devoil' 'devr' 'dhistor'\n",
      " 'dimpot' 'dinflat' 'dinfrastructur' 'dinteret' 'directeur' 'disposent'\n",
      " 'dollar' 'don' 'donald' 'doubl' 'dun' 'echeanc' 'econom' 'effet' 'elev'\n",
      " 'eleve' 'emaill' 'emis' 'emprunt' 'enraye' 'ensuit' 'entam' 'entendr'\n",
      " 'enti' 'entrain' 'entrepris' 'entretiendr' 'environ' 'envoi' 'estiment'\n",
      " 'etabl' 'etat' 'etatsun' 'euro' 'europ' 'europeen' 'even' 'evolu'\n",
      " 'evoluent' 'expert' 'explos' 'export' 'extrem' 'fac' 'facteur' 'factur'\n",
      " 'faibless' 'fair' 'faveur' 'favorisent' 'fed' 'fin' 'final' 'financ'\n",
      " 'financi' 'financier' 'flamb' 'fois' 'fonction' 'fond' 'fondateur' 'form'\n",
      " 'format' 'fort' 'fourchet' 'franc' 'francais' 'frein' 'fund' 'futur'\n",
      " 'graduel' 'grand' 'gros' 'gross' 'hauss' 'haussi' 'haut' 'histor'\n",
      " 'hypothecair' 'immobili' 'impact' 'impot' 'inattendu' 'inclus' 'initial'\n",
      " 'invest' 'ital' 'italien' 'janus' 'janvi' 'japon' 'jour' 'juge' 'juillet'\n",
      " 'juin' 'jusqu' 'jusquen' 'lacc' 'ladministr' 'lafflux' 'laiss' 'lamin'\n",
      " 'lanne' 'lattent' 'lecart' 'lecheanc' 'leconom' 'leffet' 'lelect'\n",
      " 'lemploi' 'lemprunt' 'lendet' 'letat' 'lhistoir' 'lieu' 'linflat'\n",
      " 'linstabilit' 'linvers' 'linvestisseur' 'livret' 'loat' 'loffr' 'long'\n",
      " 'lourd' 'maitris' 'maledict' 'mar' 'march' 'marque' 'massiv' 'mdse'\n",
      " 'mecan' 'meilleur' 'menag' 'mesur' 'met' 'meti' 'mettront' 'milliard'\n",
      " 'mois' 'mond' 'mondial' 'mont' 'montr' 'moyen' 'multiplie' 'nanticipent'\n",
      " 'natur' 'negat' 'niveau' 'nont' 'nouvel' 'novembr' 'oblig' 'obligatair'\n",
      " 'obstacl' 'pani' 'pari' 'part' 'particuli' 'patron' 'pay' 'pension'\n",
      " 'percevoir' 'perd' 'period' 'permet' 'permettr' 'pert' 'pesent' 'pierr'\n",
      " 'pilot' 'pimco' 'plac' 'plupart' 'plusvalu' 'polit' 'port' 'portug'\n",
      " 'posit' 'poursuit' 'poursuivr' 'pouvoir' 'premier' 'prendr' 'president'\n",
      " 'pression' 'pret' 'prevoit' 'prevu' 'proch' 'prochain' 'produit' 'profil'\n",
      " 'programm' 'projet' 'prolong' 'prolonge' 'propriet' 'protection'\n",
      " 'provoque' 'public' 'quantit' 'quen' 'quun' 'raison' 'ralent' 'rapid'\n",
      " 'rappelon' 'realis' 'rebond' 'reduct' 'reduit' 'referendum' 'refinanc'\n",
      " 'reglement' 'relanc' 'relev' 'rembours' 'remont' 'remonte' 'remuner'\n",
      " 'rend' 'renforc' 'repercut' 'rest' 'retourn' 'retrait' 'revanch'\n",
      " 'revendr' 'revenus' 'risqu' 'risque' 'sappret' 'secteur' 'semain'\n",
      " 'sendettent' 'serv' 'sest' 'signal' 'sil' 'situat' 'solid' 'sonnet'\n",
      " 'souffr' 'soulign' 'soutenu' 'souverain' 'special' 'stimul' 'strateg'\n",
      " 'suiv' 'supernov' 'surpris' 'system' 'tand' 'taux' 'tbond' 'temp' 'term'\n",
      " 'terrain' 'tir' 'titr' 'tomb' 'traval' 'trump' 'turbulent'\n",
      " 'ultraaccommod' 'valeursrefug' 'vers' 'victim' 'vigour' 'voir' 'volatil'\n",
      " 'vot' 'vu' 'zero' 'zon']\n"
     ]
    }
   ],
   "source": [
    "print(vectorizer.get_feature_names_out()) # Affiche la liste des mots uniques"
   ]
  },
  {
   "cell_type": "markdown",
   "id": "fcc7d57e",
   "metadata": {},
   "source": [
    "#### c) Les N-grammes"
   ]
  },
  {
   "cell_type": "markdown",
   "id": "445d1b5f",
   "metadata": {},
   "source": [
    "Les N-grammes sont des séquences de N mots ordonnés, ils nous permettent de contextualiser les mots et donc de préserver un peu plus leur sens. C'est une autre représentation de nos documents."
   ]
  },
  {
   "cell_type": "code",
   "execution_count": 57,
   "id": "70f7372b",
   "metadata": {
    "scrolled": true
   },
   "outputs": [
    {
     "name": "stdout",
     "output_type": "stream",
     "text": [
      "Notre 1er document : march taux dinteret lanne anne rest marque dun pierr blanch taux dinteret serv oblig tomb massiv terrain negat even lhistoir ampleur mont oblig serv taux negat depass fin danne 10000 milliard dollar mond atteint 13000 milliard cour danne dautr term acheteur oblig lieu percevoir remuner form taux dinteret contrair perd sil conservent titr jusqu dat rembours rend pari poursuit hauss cour oblig permettr revendr titr plusvalu arrive echeanc strateg risque entrain lourd pert cas retourn baiss cour oblig situat anormal provoque polit ultraaccommod banqu central cris financier mondial anne taux dinteret mondial nont cess chut cris accompagn polit taux zero banqu central cot cour oblig evoluent linvers taux dinteret flamb leffet dun fort demand dactif consider valeursrefug oblig emis etat solid etatsun allemagn franc juge risque invest action anne renforc bce polit dassoupl quantit augment pression taux 10 mar banqu central europeen abaiss taux depot 04 taux refinanc 0 bce port 60 80 milliard deuros mont achat dactif march financi jusquen mar anne mont achat obligatair ensuit reduit 60 mdse programm prolong jusqu fin anne juin vot britann faveur brex acceler lafflux capital oblig envoi taux niveau histor semain referendum britann juillet taux lemprunt detat allemand bund 10 an tomb temp 015 tand taux japon 10 an atteint 029 rend loat francais 10 an chut 009 tbond americain 10 an 136 fac situat extrem critiqu multiplie attir lattent risqu elev cour moyen term taux negat system financi mondial vu taux voir negat bon nouvel leconom soutenu march immobili franc taux emprunt hypothecair atteint histor anne permet menag pouvoir acced propriet taux favorisent lacc cred entrepris natur relanc invest lemploi sil cadeau acteur econom sendettent taux negat revanch maledict revenus deriv revenus plac financi premier victim taux banqu meti consist emprunt taux pret taux elev chut taux reduct lecart taux long court pesent benefic etabl bancair banqu allemagn commenc factur client compt depot baiss taux lamin rend produit depargn livret assurancev fond retrait met dang vers futur retrait pay disposent fond pension juin meilleur special mondial march obligatair bill gross tir sonnet dalarm format dun bull obligatair linvestisseur americain fondateur celebr fond obligatair pimco patron fond janus capital soulign taux dinteret mondial tomb 500 an dhistor connu bill gross compar march obligatair mondial supernov explos jour caus gros degat taux mettront remont remonte taux dailleur profil fin lanne anne doubl impact lelect surpris donald trump president etatsun 8 novembr suiv hauss taux directeur fed decide 14 decembr even don signal dun rebond taux etatsun sest repercut mond enti 30 decembr taux 10 an remont allemagn 020 franc 068 japon 004 etatsun 245 taux proch histor taux souverain allemand japon negat jusqu lecheanc 8 an inclus tand franc rend negat jusqu echeanc 6 an etatsun rend revanch posit courb taux 041 mois 30 decembr taux 10 an remont allemagn 020 franc 068 japon 004 etatsun 245 taux proch histor taux souverain allemand japon negat jusqu lecheanc 8 an inclus tand franc rend negat jusqu echeanc 6 an etatsun rend revanch posit courb taux 041 mois 245 10 an 305 30 an europ taux italien portug connu anne hauss anne anne cris det zon euro linstabilit polit faibless secteur bancair ital contribu remonte cout financ plupart expert estiment chut taux enraye sil nanticipent remonte rapid frein croissanc econom europ bce devr poursuivr polit accommod tand fed americain devr continu relev graduel taux cas ralent inattendu leconom americain mondial march taux devr montr volatil prochain mois mesur devoil projet polit econom commercial president donald trump prendr fonction 20 janvi prochain annonc campagn trump relanc budgetair baiss dimpot reglement protection natur cre environ dinflat eleve entretiendr taux dinteret elev quun dollar fort trump prevoit baiss impot particuli entrepris augment fort invest public defens grand traval dinfrastructur programm devr dun part stimul consomm attis linflat dautr part entrain accroissement lendet letat afflux dem obligatair cle environ hauss loffr natur fair baiss cour remont mecan taux anne fed pilot vu cot fed laiss entendr 14 decembr sappret relev fois taux fed fund cour anne port fourchet 125 150 an realis calendri dependr facteur fed maitris commenc nouvel polit econom ladministr trump rappelon quen anne fed initial prevu relev taux fois raison facteur risqu emaill lanne turbulent boursier craint chin brex final agi quun fois decembr an entam cycl haussi hauss dollar evolu haut niveau 13 an fac pani devis mondial obstacl futur action fed export croissanc econom americain souffr effet dun dollar vigour period prolonge \n",
      "\n",
      "La liste des bigrammes présents dans le 1er document : [('march', 'taux'), ('taux', 'dinteret'), ('dinteret', 'lanne'), ('lanne', 'anne'), ('anne', 'rest'), ('rest', 'marque'), ('marque', 'dun'), ('dun', 'pierr'), ('pierr', 'blanch'), ('blanch', 'taux'), ('taux', 'dinteret'), ('dinteret', 'serv'), ('serv', 'oblig'), ('oblig', 'tomb'), ('tomb', 'massiv'), ('massiv', 'terrain'), ('terrain', 'negat'), ('negat', 'even'), ('even', 'lhistoir'), ('lhistoir', 'ampleur'), ('ampleur', 'mont'), ('mont', 'oblig'), ('oblig', 'serv'), ('serv', 'taux'), ('taux', 'negat'), ('negat', 'depass'), ('depass', 'fin'), ('fin', 'danne'), ('danne', '10000'), ('10000', 'milliard'), ('milliard', 'dollar'), ('dollar', 'mond'), ('mond', 'atteint'), ('atteint', '13000'), ('13000', 'milliard'), ('milliard', 'cour'), ('cour', 'danne'), ('danne', 'dautr'), ('dautr', 'term'), ('term', 'acheteur'), ('acheteur', 'oblig'), ('oblig', 'lieu'), ('lieu', 'percevoir'), ('percevoir', 'remuner'), ('remuner', 'form'), ('form', 'taux'), ('taux', 'dinteret'), ('dinteret', 'contrair'), ('contrair', 'perd'), ('perd', 'sil'), ('sil', 'conservent'), ('conservent', 'titr'), ('titr', 'jusqu'), ('jusqu', 'dat'), ('dat', 'rembours'), ('rembours', 'rend'), ('rend', 'pari'), ('pari', 'poursuit'), ('poursuit', 'hauss'), ('hauss', 'cour'), ('cour', 'oblig'), ('oblig', 'permettr'), ('permettr', 'revendr'), ('revendr', 'titr'), ('titr', 'plusvalu'), ('plusvalu', 'arrive'), ('arrive', 'echeanc'), ('echeanc', 'strateg'), ('strateg', 'risque'), ('risque', 'entrain'), ('entrain', 'lourd'), ('lourd', 'pert'), ('pert', 'cas'), ('cas', 'retourn'), ('retourn', 'baiss'), ('baiss', 'cour'), ('cour', 'oblig'), ('oblig', 'situat'), ('situat', 'anormal'), ('anormal', 'provoque'), ('provoque', 'polit'), ('polit', 'ultraaccommod'), ('ultraaccommod', 'banqu'), ('banqu', 'central'), ('central', 'cris'), ('cris', 'financier'), ('financier', 'mondial'), ('mondial', 'anne'), ('anne', 'taux'), ('taux', 'dinteret'), ('dinteret', 'mondial'), ('mondial', 'nont'), ('nont', 'cess'), ('cess', 'chut'), ('chut', 'cris'), ('cris', 'accompagn'), ('accompagn', 'polit'), ('polit', 'taux'), ('taux', 'zero'), ('zero', 'banqu'), ('banqu', 'central'), ('central', 'cot'), ('cot', 'cour'), ('cour', 'oblig'), ('oblig', 'evoluent'), ('evoluent', 'linvers'), ('linvers', 'taux'), ('taux', 'dinteret'), ('dinteret', 'flamb'), ('flamb', 'leffet'), ('leffet', 'dun'), ('dun', 'fort'), ('fort', 'demand'), ('demand', 'dactif'), ('dactif', 'consider'), ('consider', 'valeursrefug'), ('valeursrefug', 'oblig'), ('oblig', 'emis'), ('emis', 'etat'), ('etat', 'solid'), ('solid', 'etatsun'), ('etatsun', 'allemagn'), ('allemagn', 'franc'), ('franc', 'juge'), ('juge', 'risque'), ('risque', 'invest'), ('invest', 'action'), ('action', 'anne'), ('anne', 'renforc'), ('renforc', 'bce'), ('bce', 'polit'), ('polit', 'dassoupl'), ('dassoupl', 'quantit'), ('quantit', 'augment'), ('augment', 'pression'), ('pression', 'taux'), ('taux', '10'), ('10', 'mar'), ('mar', 'banqu'), ('banqu', 'central'), ('central', 'europeen'), ('europeen', 'abaiss'), ('abaiss', 'taux'), ('taux', 'depot'), ('depot', '04'), ('04', 'taux'), ('taux', 'refinanc'), ('refinanc', '0'), ('0', 'bce'), ('bce', 'port'), ('port', '60'), ('60', '80'), ('80', 'milliard'), ('milliard', 'deuros'), ('deuros', 'mont'), ('mont', 'achat'), ('achat', 'dactif'), ('dactif', 'march'), ('march', 'financi'), ('financi', 'jusquen'), ('jusquen', 'mar'), ('mar', 'anne'), ('anne', 'mont'), ('mont', 'achat'), ('achat', 'obligatair'), ('obligatair', 'ensuit'), ('ensuit', 'reduit'), ('reduit', '60'), ('60', 'mdse'), ('mdse', 'programm'), ('programm', 'prolong'), ('prolong', 'jusqu'), ('jusqu', 'fin'), ('fin', 'anne'), ('anne', 'juin'), ('juin', 'vot'), ('vot', 'britann'), ('britann', 'faveur'), ('faveur', 'brex'), ('brex', 'acceler'), ('acceler', 'lafflux'), ('lafflux', 'capital'), ('capital', 'oblig'), ('oblig', 'envoi'), ('envoi', 'taux'), ('taux', 'niveau'), ('niveau', 'histor'), ('histor', 'semain'), ('semain', 'referendum'), ('referendum', 'britann'), ('britann', 'juillet'), ('juillet', 'taux'), ('taux', 'lemprunt'), ('lemprunt', 'detat'), ('detat', 'allemand'), ('allemand', 'bund'), ('bund', '10'), ('10', 'an'), ('an', 'tomb'), ('tomb', 'temp'), ('temp', '015'), ('015', 'tand'), ('tand', 'taux'), ('taux', 'japon'), ('japon', '10'), ('10', 'an'), ('an', 'atteint'), ('atteint', '029'), ('029', 'rend'), ('rend', 'loat'), ('loat', 'francais'), ('francais', '10'), ('10', 'an'), ('an', 'chut'), ('chut', '009'), ('009', 'tbond'), ('tbond', 'americain'), ('americain', '10'), ('10', 'an'), ('an', '136'), ('136', 'fac'), ('fac', 'situat'), ('situat', 'extrem'), ('extrem', 'critiqu'), ('critiqu', 'multiplie'), ('multiplie', 'attir'), ('attir', 'lattent'), ('lattent', 'risqu'), ('risqu', 'elev'), ('elev', 'cour'), ('cour', 'moyen'), ('moyen', 'term'), ('term', 'taux'), ('taux', 'negat'), ('negat', 'system'), ('system', 'financi'), ('financi', 'mondial'), ('mondial', 'vu'), ('vu', 'taux'), ('taux', 'voir'), ('voir', 'negat'), ('negat', 'bon'), ('bon', 'nouvel'), ('nouvel', 'leconom'), ('leconom', 'soutenu'), ('soutenu', 'march'), ('march', 'immobili'), ('immobili', 'franc'), ('franc', 'taux'), ('taux', 'emprunt'), ('emprunt', 'hypothecair'), ('hypothecair', 'atteint'), ('atteint', 'histor'), ('histor', 'anne'), ('anne', 'permet'), ('permet', 'menag'), ('menag', 'pouvoir'), ('pouvoir', 'acced'), ('acced', 'propriet'), ('propriet', 'taux'), ('taux', 'favorisent'), ('favorisent', 'lacc'), ('lacc', 'cred'), ('cred', 'entrepris'), ('entrepris', 'natur'), ('natur', 'relanc'), ('relanc', 'invest'), ('invest', 'lemploi'), ('lemploi', 'sil'), ('sil', 'cadeau'), ('cadeau', 'acteur'), ('acteur', 'econom'), ('econom', 'sendettent'), ('sendettent', 'taux'), ('taux', 'negat'), ('negat', 'revanch'), ('revanch', 'maledict'), ('maledict', 'revenus'), ('revenus', 'deriv'), ('deriv', 'revenus'), ('revenus', 'plac'), ('plac', 'financi'), ('financi', 'premier'), ('premier', 'victim'), ('victim', 'taux'), ('taux', 'banqu'), ('banqu', 'meti'), ('meti', 'consist'), ('consist', 'emprunt'), ('emprunt', 'taux'), ('taux', 'pret'), ('pret', 'taux'), ('taux', 'elev'), ('elev', 'chut'), ('chut', 'taux'), ('taux', 'reduct'), ('reduct', 'lecart'), ('lecart', 'taux'), ('taux', 'long'), ('long', 'court'), ('court', 'pesent'), ('pesent', 'benefic'), ('benefic', 'etabl'), ('etabl', 'bancair'), ('bancair', 'banqu'), ('banqu', 'allemagn'), ('allemagn', 'commenc'), ('commenc', 'factur'), ('factur', 'client'), ('client', 'compt'), ('compt', 'depot'), ('depot', 'baiss'), ('baiss', 'taux'), ('taux', 'lamin'), ('lamin', 'rend'), ('rend', 'produit'), ('produit', 'depargn'), ('depargn', 'livret'), ('livret', 'assurancev'), ('assurancev', 'fond'), ('fond', 'retrait'), ('retrait', 'met'), ('met', 'dang'), ('dang', 'vers'), ('vers', 'futur'), ('futur', 'retrait'), ('retrait', 'pay'), ('pay', 'disposent'), ('disposent', 'fond'), ('fond', 'pension'), ('pension', 'juin'), ('juin', 'meilleur'), ('meilleur', 'special'), ('special', 'mondial'), ('mondial', 'march'), ('march', 'obligatair'), ('obligatair', 'bill'), ('bill', 'gross'), ('gross', 'tir'), ('tir', 'sonnet'), ('sonnet', 'dalarm'), ('dalarm', 'format'), ('format', 'dun'), ('dun', 'bull'), ('bull', 'obligatair'), ('obligatair', 'linvestisseur'), ('linvestisseur', 'americain'), ('americain', 'fondateur'), ('fondateur', 'celebr'), ('celebr', 'fond'), ('fond', 'obligatair'), ('obligatair', 'pimco'), ('pimco', 'patron'), ('patron', 'fond'), ('fond', 'janus'), ('janus', 'capital'), ('capital', 'soulign'), ('soulign', 'taux'), ('taux', 'dinteret'), ('dinteret', 'mondial'), ('mondial', 'tomb'), ('tomb', '500'), ('500', 'an'), ('an', 'dhistor'), ('dhistor', 'connu'), ('connu', 'bill'), ('bill', 'gross'), ('gross', 'compar'), ('compar', 'march'), ('march', 'obligatair'), ('obligatair', 'mondial'), ('mondial', 'supernov'), ('supernov', 'explos'), ('explos', 'jour'), ('jour', 'caus'), ('caus', 'gros'), ('gros', 'degat'), ('degat', 'taux'), ('taux', 'mettront'), ('mettront', 'remont'), ('remont', 'remonte'), ('remonte', 'taux'), ('taux', 'dailleur'), ('dailleur', 'profil'), ('profil', 'fin'), ('fin', 'lanne'), ('lanne', 'anne'), ('anne', 'doubl'), ('doubl', 'impact'), ('impact', 'lelect'), ('lelect', 'surpris'), ('surpris', 'donald'), ('donald', 'trump'), ('trump', 'president'), ('president', 'etatsun'), ('etatsun', '8'), ('8', 'novembr'), ('novembr', 'suiv'), ('suiv', 'hauss'), ('hauss', 'taux'), ('taux', 'directeur'), ('directeur', 'fed'), ('fed', 'decide'), ('decide', '14'), ('14', 'decembr'), ('decembr', 'even'), ('even', 'don'), ('don', 'signal'), ('signal', 'dun'), ('dun', 'rebond'), ('rebond', 'taux'), ('taux', 'etatsun'), ('etatsun', 'sest'), ('sest', 'repercut'), ('repercut', 'mond'), ('mond', 'enti'), ('enti', '30'), ('30', 'decembr'), ('decembr', 'taux'), ('taux', '10'), ('10', 'an'), ('an', 'remont'), ('remont', 'allemagn'), ('allemagn', '020'), ('020', 'franc'), ('franc', '068'), ('068', 'japon'), ('japon', '004'), ('004', 'etatsun'), ('etatsun', '245'), ('245', 'taux'), ('taux', 'proch'), ('proch', 'histor'), ('histor', 'taux'), ('taux', 'souverain'), ('souverain', 'allemand'), ('allemand', 'japon'), ('japon', 'negat'), ('negat', 'jusqu'), ('jusqu', 'lecheanc'), ('lecheanc', '8'), ('8', 'an'), ('an', 'inclus'), ('inclus', 'tand'), ('tand', 'franc'), ('franc', 'rend'), ('rend', 'negat'), ('negat', 'jusqu'), ('jusqu', 'echeanc'), ('echeanc', '6'), ('6', 'an'), ('an', 'etatsun'), ('etatsun', 'rend'), ('rend', 'revanch'), ('revanch', 'posit'), ('posit', 'courb'), ('courb', 'taux'), ('taux', '041'), ('041', 'mois'), ('mois', '30'), ('30', 'decembr'), ('decembr', 'taux'), ('taux', '10'), ('10', 'an'), ('an', 'remont'), ('remont', 'allemagn'), ('allemagn', '020'), ('020', 'franc'), ('franc', '068'), ('068', 'japon'), ('japon', '004'), ('004', 'etatsun'), ('etatsun', '245'), ('245', 'taux'), ('taux', 'proch'), ('proch', 'histor'), ('histor', 'taux'), ('taux', 'souverain'), ('souverain', 'allemand'), ('allemand', 'japon'), ('japon', 'negat'), ('negat', 'jusqu'), ('jusqu', 'lecheanc'), ('lecheanc', '8'), ('8', 'an'), ('an', 'inclus'), ('inclus', 'tand'), ('tand', 'franc'), ('franc', 'rend'), ('rend', 'negat'), ('negat', 'jusqu'), ('jusqu', 'echeanc'), ('echeanc', '6'), ('6', 'an'), ('an', 'etatsun'), ('etatsun', 'rend'), ('rend', 'revanch'), ('revanch', 'posit'), ('posit', 'courb'), ('courb', 'taux'), ('taux', '041'), ('041', 'mois'), ('mois', '245'), ('245', '10'), ('10', 'an'), ('an', '305'), ('305', '30'), ('30', 'an'), ('an', 'europ'), ('europ', 'taux'), ('taux', 'italien'), ('italien', 'portug'), ('portug', 'connu'), ('connu', 'anne'), ('anne', 'hauss'), ('hauss', 'anne'), ('anne', 'anne'), ('anne', 'cris'), ('cris', 'det'), ('det', 'zon'), ('zon', 'euro'), ('euro', 'linstabilit'), ('linstabilit', 'polit'), ('polit', 'faibless'), ('faibless', 'secteur'), ('secteur', 'bancair'), ('bancair', 'ital'), ('ital', 'contribu'), ('contribu', 'remonte'), ('remonte', 'cout'), ('cout', 'financ'), ('financ', 'plupart'), ('plupart', 'expert'), ('expert', 'estiment'), ('estiment', 'chut'), ('chut', 'taux'), ('taux', 'enraye'), ('enraye', 'sil'), ('sil', 'nanticipent'), ('nanticipent', 'remonte'), ('remonte', 'rapid'), ('rapid', 'frein'), ('frein', 'croissanc'), ('croissanc', 'econom'), ('econom', 'europ'), ('europ', 'bce'), ('bce', 'devr'), ('devr', 'poursuivr'), ('poursuivr', 'polit'), ('polit', 'accommod'), ('accommod', 'tand'), ('tand', 'fed'), ('fed', 'americain'), ('americain', 'devr'), ('devr', 'continu'), ('continu', 'relev'), ('relev', 'graduel'), ('graduel', 'taux'), ('taux', 'cas'), ('cas', 'ralent'), ('ralent', 'inattendu'), ('inattendu', 'leconom'), ('leconom', 'americain'), ('americain', 'mondial'), ('mondial', 'march'), ('march', 'taux'), ('taux', 'devr'), ('devr', 'montr'), ('montr', 'volatil'), ('volatil', 'prochain'), ('prochain', 'mois'), ('mois', 'mesur'), ('mesur', 'devoil'), ('devoil', 'projet'), ('projet', 'polit'), ('polit', 'econom'), ('econom', 'commercial'), ('commercial', 'president'), ('president', 'donald'), ('donald', 'trump'), ('trump', 'prendr'), ('prendr', 'fonction'), ('fonction', '20'), ('20', 'janvi'), ('janvi', 'prochain'), ('prochain', 'annonc'), ('annonc', 'campagn'), ('campagn', 'trump'), ('trump', 'relanc'), ('relanc', 'budgetair'), ('budgetair', 'baiss'), ('baiss', 'dimpot'), ('dimpot', 'reglement'), ('reglement', 'protection'), ('protection', 'natur'), ('natur', 'cre'), ('cre', 'environ'), ('environ', 'dinflat'), ('dinflat', 'eleve'), ('eleve', 'entretiendr'), ('entretiendr', 'taux'), ('taux', 'dinteret'), ('dinteret', 'elev'), ('elev', 'quun'), ('quun', 'dollar'), ('dollar', 'fort'), ('fort', 'trump'), ('trump', 'prevoit'), ('prevoit', 'baiss'), ('baiss', 'impot'), ('impot', 'particuli'), ('particuli', 'entrepris'), ('entrepris', 'augment'), ('augment', 'fort'), ('fort', 'invest'), ('invest', 'public'), ('public', 'defens'), ('defens', 'grand'), ('grand', 'traval'), ('traval', 'dinfrastructur'), ('dinfrastructur', 'programm'), ('programm', 'devr'), ('devr', 'dun'), ('dun', 'part'), ('part', 'stimul'), ('stimul', 'consomm'), ('consomm', 'attis'), ('attis', 'linflat'), ('linflat', 'dautr'), ('dautr', 'part'), ('part', 'entrain'), ('entrain', 'accroissement'), ('accroissement', 'lendet'), ('lendet', 'letat'), ('letat', 'afflux'), ('afflux', 'dem'), ('dem', 'obligatair'), ('obligatair', 'cle'), ('cle', 'environ'), ('environ', 'hauss'), ('hauss', 'loffr'), ('loffr', 'natur'), ('natur', 'fair'), ('fair', 'baiss'), ('baiss', 'cour'), ('cour', 'remont'), ('remont', 'mecan'), ('mecan', 'taux'), ('taux', 'anne'), ('anne', 'fed'), ('fed', 'pilot'), ('pilot', 'vu'), ('vu', 'cot'), ('cot', 'fed'), ('fed', 'laiss'), ('laiss', 'entendr'), ('entendr', '14'), ('14', 'decembr'), ('decembr', 'sappret'), ('sappret', 'relev'), ('relev', 'fois'), ('fois', 'taux'), ('taux', 'fed'), ('fed', 'fund'), ('fund', 'cour'), ('cour', 'anne'), ('anne', 'port'), ('port', 'fourchet'), ('fourchet', '125'), ('125', '150'), ('150', 'an'), ('an', 'realis'), ('realis', 'calendri'), ('calendri', 'dependr'), ('dependr', 'facteur'), ('facteur', 'fed'), ('fed', 'maitris'), ('maitris', 'commenc'), ('commenc', 'nouvel'), ('nouvel', 'polit'), ('polit', 'econom'), ('econom', 'ladministr'), ('ladministr', 'trump'), ('trump', 'rappelon'), ('rappelon', 'quen'), ('quen', 'anne'), ('anne', 'fed'), ('fed', 'initial'), ('initial', 'prevu'), ('prevu', 'relev'), ('relev', 'taux'), ('taux', 'fois'), ('fois', 'raison'), ('raison', 'facteur'), ('facteur', 'risqu'), ('risqu', 'emaill'), ('emaill', 'lanne'), ('lanne', 'turbulent'), ('turbulent', 'boursier'), ('boursier', 'craint'), ('craint', 'chin'), ('chin', 'brex'), ('brex', 'final'), ('final', 'agi'), ('agi', 'quun'), ('quun', 'fois'), ('fois', 'decembr'), ('decembr', 'an'), ('an', 'entam'), ('entam', 'cycl'), ('cycl', 'haussi'), ('haussi', 'hauss'), ('hauss', 'dollar'), ('dollar', 'evolu'), ('evolu', 'haut'), ('haut', 'niveau'), ('niveau', '13'), ('13', 'an'), ('an', 'fac'), ('fac', 'pani'), ('pani', 'devis'), ('devis', 'mondial'), ('mondial', 'obstacl'), ('obstacl', 'futur'), ('futur', 'action'), ('action', 'fed'), ('fed', 'export'), ('export', 'croissanc'), ('croissanc', 'econom'), ('econom', 'americain'), ('americain', 'souffr'), ('souffr', 'effet'), ('effet', 'dun'), ('dun', 'dollar'), ('dollar', 'vigour'), ('vigour', 'period'), ('period', 'prolonge')]\n"
     ]
    }
   ],
   "source": [
    "# Trouvez les bigrammes dans notre premier document\n",
    "print(f\"Notre 1er document : {corpus_stemmed[0]} \\n\")\n",
    "\n",
    "\n",
    "print(f\"La liste des bigrammes présents dans le 1er document : {list(nltk.bigrams(corpus_stemmed[0].split()))}\")"
   ]
  },
  {
   "cell_type": "code",
   "execution_count": 58,
   "id": "5c0ef48e-974f-4997-b0e5-7928d37ec5c6",
   "metadata": {},
   "outputs": [
    {
     "data": {
      "application/vnd.plotly.v1+json": {
       "config": {
        "plotlyServerURL": "https://plot.ly"
       },
       "data": [
        {
         "alignmentgroup": "True",
         "hovertemplate": "Fréquence=%{x}<br>Bi-grammes=%{y}<extra></extra>",
         "legendgroup": "",
         "marker": {
          "color": "#1f77b4",
          "pattern": {
           "shape": ""
          }
         },
         "name": "",
         "offsetgroup": "",
         "orientation": "h",
         "showlegend": false,
         "textposition": "auto",
         "type": "bar",
         "x": [
          7,
          7,
          4,
          3,
          3,
          3,
          3,
          2,
          2,
          2
         ],
         "xaxis": "x",
         "y": [
          "10 an",
          "taux dinteret",
          "negat jusqu",
          "banqu central",
          "cour oblig",
          "taux 10",
          "taux negat",
          "004 etatsun",
          "020 franc",
          "041 mois"
         ],
         "yaxis": "y"
        }
       ],
       "layout": {
        "barmode": "relative",
        "font": {
         "size": 12
        },
        "legend": {
         "tracegroupgap": 0
        },
        "paper_bgcolor": "white",
        "plot_bgcolor": "white",
        "template": {
         "data": {
          "candlestick": [
           {
            "decreasing": {
             "line": {
              "color": "#000033"
             }
            },
            "increasing": {
             "line": {
              "color": "#000032"
             }
            },
            "type": "candlestick"
           }
          ],
          "contour": [
           {
            "colorscale": [
             [
              0,
              "#000011"
             ],
             [
              0.1111111111111111,
              "#000012"
             ],
             [
              0.2222222222222222,
              "#000013"
             ],
             [
              0.3333333333333333,
              "#000014"
             ],
             [
              0.4444444444444444,
              "#000015"
             ],
             [
              0.5555555555555556,
              "#000016"
             ],
             [
              0.6666666666666666,
              "#000017"
             ],
             [
              0.7777777777777778,
              "#000018"
             ],
             [
              0.8888888888888888,
              "#000019"
             ],
             [
              1,
              "#000020"
             ]
            ],
            "type": "contour"
           }
          ],
          "contourcarpet": [
           {
            "colorscale": [
             [
              0,
              "#000011"
             ],
             [
              0.1111111111111111,
              "#000012"
             ],
             [
              0.2222222222222222,
              "#000013"
             ],
             [
              0.3333333333333333,
              "#000014"
             ],
             [
              0.4444444444444444,
              "#000015"
             ],
             [
              0.5555555555555556,
              "#000016"
             ],
             [
              0.6666666666666666,
              "#000017"
             ],
             [
              0.7777777777777778,
              "#000018"
             ],
             [
              0.8888888888888888,
              "#000019"
             ],
             [
              1,
              "#000020"
             ]
            ],
            "type": "contourcarpet"
           }
          ],
          "heatmap": [
           {
            "colorscale": [
             [
              0,
              "#000011"
             ],
             [
              0.1111111111111111,
              "#000012"
             ],
             [
              0.2222222222222222,
              "#000013"
             ],
             [
              0.3333333333333333,
              "#000014"
             ],
             [
              0.4444444444444444,
              "#000015"
             ],
             [
              0.5555555555555556,
              "#000016"
             ],
             [
              0.6666666666666666,
              "#000017"
             ],
             [
              0.7777777777777778,
              "#000018"
             ],
             [
              0.8888888888888888,
              "#000019"
             ],
             [
              1,
              "#000020"
             ]
            ],
            "type": "heatmap"
           }
          ],
          "histogram2d": [
           {
            "colorscale": [
             [
              0,
              "#000011"
             ],
             [
              0.1111111111111111,
              "#000012"
             ],
             [
              0.2222222222222222,
              "#000013"
             ],
             [
              0.3333333333333333,
              "#000014"
             ],
             [
              0.4444444444444444,
              "#000015"
             ],
             [
              0.5555555555555556,
              "#000016"
             ],
             [
              0.6666666666666666,
              "#000017"
             ],
             [
              0.7777777777777778,
              "#000018"
             ],
             [
              0.8888888888888888,
              "#000019"
             ],
             [
              1,
              "#000020"
             ]
            ],
            "type": "histogram2d"
           }
          ],
          "icicle": [
           {
            "textfont": {
             "color": "white"
            },
            "type": "icicle"
           }
          ],
          "sankey": [
           {
            "textfont": {
             "color": "#000036"
            },
            "type": "sankey"
           }
          ],
          "scatter": [
           {
            "marker": {
             "line": {
              "width": 0
             }
            },
            "type": "scatter"
           }
          ],
          "table": [
           {
            "cells": {
             "fill": {
              "color": "#000038"
             },
             "font": {
              "color": "#000037"
             },
             "line": {
              "color": "#000039"
             }
            },
            "header": {
             "fill": {
              "color": "#000040"
             },
             "font": {
              "color": "#000036"
             },
             "line": {
              "color": "#000039"
             }
            },
            "type": "table"
           }
          ],
          "waterfall": [
           {
            "connector": {
             "line": {
              "color": "#000036",
              "width": 2
             }
            },
            "decreasing": {
             "marker": {
              "color": "#000033"
             }
            },
            "increasing": {
             "marker": {
              "color": "#000032"
             }
            },
            "totals": {
             "marker": {
              "color": "#000034"
             }
            },
            "type": "waterfall"
           }
          ]
         },
         "layout": {
          "coloraxis": {
           "colorscale": [
            [
             0,
             "#000011"
            ],
            [
             0.1111111111111111,
             "#000012"
            ],
            [
             0.2222222222222222,
             "#000013"
            ],
            [
             0.3333333333333333,
             "#000014"
            ],
            [
             0.4444444444444444,
             "#000015"
            ],
            [
             0.5555555555555556,
             "#000016"
            ],
            [
             0.6666666666666666,
             "#000017"
            ],
            [
             0.7777777777777778,
             "#000018"
            ],
            [
             0.8888888888888888,
             "#000019"
            ],
            [
             1,
             "#000020"
            ]
           ]
          },
          "colorscale": {
           "diverging": [
            [
             0,
             "#000021"
            ],
            [
             0.1,
             "#000022"
            ],
            [
             0.2,
             "#000023"
            ],
            [
             0.3,
             "#000024"
            ],
            [
             0.4,
             "#000025"
            ],
            [
             0.5,
             "#000026"
            ],
            [
             0.6,
             "#000027"
            ],
            [
             0.7,
             "#000028"
            ],
            [
             0.8,
             "#000029"
            ],
            [
             0.9,
             "#000030"
            ],
            [
             1,
             "#000031"
            ]
           ],
           "sequential": [
            [
             0,
             "#000011"
            ],
            [
             0.1111111111111111,
             "#000012"
            ],
            [
             0.2222222222222222,
             "#000013"
            ],
            [
             0.3333333333333333,
             "#000014"
            ],
            [
             0.4444444444444444,
             "#000015"
            ],
            [
             0.5555555555555556,
             "#000016"
            ],
            [
             0.6666666666666666,
             "#000017"
            ],
            [
             0.7777777777777778,
             "#000018"
            ],
            [
             0.8888888888888888,
             "#000019"
            ],
            [
             1,
             "#000020"
            ]
           ],
           "sequentialminus": [
            [
             0,
             "#000011"
            ],
            [
             0.1111111111111111,
             "#000012"
            ],
            [
             0.2222222222222222,
             "#000013"
            ],
            [
             0.3333333333333333,
             "#000014"
            ],
            [
             0.4444444444444444,
             "#000015"
            ],
            [
             0.5555555555555556,
             "#000016"
            ],
            [
             0.6666666666666666,
             "#000017"
            ],
            [
             0.7777777777777778,
             "#000018"
            ],
            [
             0.8888888888888888,
             "#000019"
            ],
            [
             1,
             "#000020"
            ]
           ]
          },
          "colorway": [
           "#000001",
           "#000002",
           "#000003",
           "#000004",
           "#000005",
           "#000006",
           "#000007",
           "#000008",
           "#000009",
           "#000010"
          ]
         }
        },
        "title": {
         "font": {
          "size": 16
         },
         "text": "Top 10 des Bi-grammes"
        },
        "xaxis": {
         "anchor": "y",
         "domain": [
          0,
          1
         ],
         "gridcolor": "lightgray",
         "showgrid": true,
         "title": {
          "text": "Fréquence"
         }
        },
        "yaxis": {
         "anchor": "x",
         "domain": [
          0,
          1
         ],
         "showgrid": false,
         "title": {
          "text": "Bi-grammes"
         }
        }
       }
      }
     },
     "metadata": {},
     "output_type": "display_data"
    }
   ],
   "source": [
    "bigram_vectorizer = CountVectorizer(ngram_range=(2, 2))  # Vectoriseur pour bi-grammes\n",
    "X_bigram = bigram_vectorizer.fit_transform(corpus_stemmed)  \n",
    "\n",
    "# bi-grammes et leurs fréquences\n",
    "bigram_counts = X_bigram.toarray().sum(axis=0)  \n",
    "bigram_freq = dict(zip(bigram_vectorizer.get_feature_names_out(), bigram_counts)) \n",
    "\n",
    "# Trier les bi-grammes et garder les 10 premiers\n",
    "sorted_bigrams = sorted(bigram_freq.items(), key=lambda x: x[1], reverse=True)[:10]\n",
    "bigram_labels, bigram_values = zip(*sorted_bigrams)\n",
    "\n",
    "# Création du DataFrame\n",
    "bigram_df = pd.DataFrame({\n",
    "    \"Bi-grammes\": bigram_labels,\n",
    "    \"Fréquence\": bigram_values})\n",
    "\n",
    "# Création du graphique\n",
    "fig = px.bar(\n",
    "    bigram_df,\n",
    "    x=\"Fréquence\",\n",
    "    y=\"Bi-grammes\",\n",
    "    orientation=\"h\",  # Diagramme horizontal\n",
    "    title=\"Top 10 des Bi-grammes\",\n",
    "    labels={\"Bi-grammes\": \"Bi-grammes\", \"Fréquence\": \"Fréquence\"},\n",
    "    color_discrete_sequence=[\"#1f77b4\"]  # Bleu\n",
    ")\n",
    "\n",
    "fig.update_layout(\n",
    "    plot_bgcolor=\"white\",  # Fond blanc\n",
    "    paper_bgcolor=\"white\",  # Fond extérieur blanc\n",
    "    font=dict(size=12),  # Taille de police ajustée\n",
    "    xaxis=dict(title=\"Fréquence\", showgrid=True, gridcolor=\"lightgray\"),\n",
    "    yaxis=dict(title=\"Bi-grammes\", showgrid=False),\n",
    "    title=dict(font=dict(size=16))\n",
    ")\n",
    "fig.show()"
   ]
  },
  {
   "cell_type": "markdown",
   "id": "c4e59048-8f69-4cdd-9046-cf8b18e5abd7",
   "metadata": {},
   "source": [
    "Ce graphique montre les 10 bi-grammes les plus fréquents du corpus, tels que \"10 an\", \"taux dinteret\", et \"banqu central\". Les bi-grammes \"taux negat\" et \"cour oblig\" reflètent un focus sur les obligations et les taux négatifs, soulignant les thèmes principaux du texte.\n",
    "\n"
   ]
  },
  {
   "cell_type": "markdown",
   "id": "3687771e",
   "metadata": {},
   "source": [
    "#### d) La réprésentation tf-idf\n",
    "\n",
    "Le score **tf-idf** (pour *Term-Frequency - Inverse Document Frequency*) permet de pondérer la fréquence de chacun de vos tokens (mots/n-grammes/stemmes/lemmes) dans un document par son importance relative dans les autres documents. Ce score tient donc compte de la composition du corpus."
   ]
  },
  {
   "cell_type": "code",
   "execution_count": 59,
   "id": "1ae4ba64",
   "metadata": {
    "scrolled": true
   },
   "outputs": [
    {
     "name": "stdout",
     "output_type": "stream",
     "text": [
      "[[0.03054236 0.01527118 0.01527118 0.03054236 0.01527118 0.01527118\n",
      "  0.03054236 0.03054236 0.12216944 0.01527118 0.01527118 0.01527118\n",
      "  0.01527118 0.01527118 0.03054236 0.01527118 0.01527118 0.04581354\n",
      "  0.04581354 0.01527118 0.01527118 0.03054236 0.01527118 0.01527118\n",
      "  0.01527118 0.01527118 0.01527118 0.01527118 0.01527118 0.03054236\n",
      "  0.01527118 0.01527118 0.03054236 0.01527118 0.01527118 0.06108472\n",
      "  0.04581354 0.0763559  0.01527118 0.24433889 0.19852535 0.01527118\n",
      "  0.01527118 0.01527118 0.01527118 0.04581354 0.01527118 0.01527118\n",
      "  0.03054236 0.0763559  0.03054236 0.0763559  0.04581354 0.01527118\n",
      "  0.03054236 0.01527118 0.01527118 0.01527118 0.03054236 0.03054236\n",
      "  0.01527118 0.01527118 0.01527118 0.01527118 0.01527118 0.01527118\n",
      "  0.03054236 0.03054236 0.01527118 0.01527118 0.04581354 0.01527118\n",
      "  0.01527118 0.06108472 0.01527118 0.01527118 0.03054236 0.01527118\n",
      "  0.01527118 0.01527118 0.03054236 0.01527118 0.01527118 0.01527118\n",
      "  0.01527118 0.01527118 0.01527118 0.01527118 0.03054236 0.10689826\n",
      "  0.03054236 0.01527118 0.01527118 0.01527118 0.01527118 0.01527118\n",
      "  0.04581354 0.01527118 0.03054236 0.01527118 0.03054236 0.01527118\n",
      "  0.01527118 0.01527118 0.03054236 0.01527118 0.01527118 0.03054236\n",
      "  0.0763559  0.01527118 0.01527118 0.01527118 0.01527118 0.01527118\n",
      "  0.01527118 0.01527118 0.01527118 0.03054236 0.01527118 0.01527118\n",
      "  0.01527118 0.01527118 0.01527118 0.01527118 0.06108472 0.01527118\n",
      "  0.01527118 0.01527118 0.01527118 0.10689826 0.01527118 0.01527118\n",
      "  0.06108472 0.01527118 0.03054236 0.01527118 0.09162708 0.04581354\n",
      "  0.0763559  0.01527118 0.04581354 0.01527118 0.01527118 0.01527118\n",
      "  0.03054236 0.01527118 0.01527118 0.01527118 0.01527118 0.01527118\n",
      "  0.03054236 0.03054236 0.01527118 0.03054236 0.01527118 0.01527118\n",
      "  0.01527118 0.01527118 0.10689826 0.01527118 0.03054236 0.01527118\n",
      "  0.03054236 0.01527118 0.01527118 0.01527118 0.01527118 0.01527118\n",
      "  0.01527118 0.03054236 0.03054236 0.01527118 0.01527118 0.01527118\n",
      "  0.01527118 0.01527118 0.12216944 0.04581354 0.01527118 0.01527118\n",
      "  0.04581354 0.01527118 0.01527118 0.04581354 0.01527118 0.06108472\n",
      "  0.01527118 0.01527118 0.01527118 0.04581354 0.01527118 0.09162708\n",
      "  0.01527118 0.01527118 0.01527118 0.03054236 0.01527118 0.01527118\n",
      "  0.01527118 0.03054236 0.0763559  0.01527118 0.01527118 0.06108472\n",
      "  0.01527118 0.01527118 0.01527118 0.01527118 0.01527118 0.03054236\n",
      "  0.01527118 0.04581354 0.01527118 0.01527118 0.01527118 0.01527118\n",
      "  0.0763559  0.01527118 0.01527118 0.01527118 0.03054236 0.09162708\n",
      "  0.01527118 0.01527118 0.01527118 0.01527118 0.01527118 0.01527118\n",
      "  0.04581354 0.01527118 0.01527118 0.03054236 0.03054236 0.01527118\n",
      "  0.01527118 0.01527118 0.01527118 0.01527118 0.01527118 0.01527118\n",
      "  0.01527118 0.01527118 0.01527118 0.01527118 0.01527118 0.01527118\n",
      "  0.01527118 0.01527118 0.01527118 0.01527118 0.01527118 0.01527118\n",
      "  0.03054236 0.09162708 0.01527118 0.01527118 0.01527118 0.01527118\n",
      "  0.01527118 0.01527118 0.01527118 0.01527118 0.01527118 0.01527118\n",
      "  0.04581354 0.04581354 0.03054236 0.12216944 0.04581354 0.01527118\n",
      "  0.01527118 0.01527118 0.01527118 0.04581354 0.13744062 0.03054236\n",
      "  0.01527118 0.03054236 0.01527118 0.12216944 0.09162708 0.01527118\n",
      "  0.01527118 0.01527118 0.03054236 0.01527118 0.01527118 0.01527118\n",
      "  0.01527118 0.01527118 0.01527118 0.01527118 0.01527118 0.01527118\n",
      "  0.01527118 0.01527118 0.01527118 0.01527118 0.01527118 0.01527118\n",
      "  0.01527118 0.01527118 0.10689826 0.03054236 0.01527118 0.03054236\n",
      "  0.01527118 0.01527118 0.01527118 0.01527118 0.01527118 0.03054236\n",
      "  0.01527118 0.01527118 0.01527118 0.01527118 0.03054236 0.03054236\n",
      "  0.01527118 0.01527118 0.03054236 0.01527118 0.01527118 0.01527118\n",
      "  0.01527118 0.01527118 0.01527118 0.01527118 0.01527118 0.01527118\n",
      "  0.03054236 0.01527118 0.01527118 0.01527118 0.01527118 0.01527118\n",
      "  0.01527118 0.01527118 0.01527118 0.01527118 0.01527118 0.01527118\n",
      "  0.03054236 0.04581354 0.01527118 0.06108472 0.04581354 0.01527118\n",
      "  0.10689826 0.01527118 0.01527118 0.01527118 0.01527118 0.03054236\n",
      "  0.04581354 0.01527118 0.03054236 0.03054236 0.03054236 0.01527118\n",
      "  0.01527118 0.01527118 0.01527118 0.03054236 0.01527118 0.01527118\n",
      "  0.04581354 0.03054236 0.01527118 0.01527118 0.01527118 0.01527118\n",
      "  0.01527118 0.03054236 0.01527118 0.01527118 0.01527118 0.01527118\n",
      "  0.01527118 0.01527118 0.01527118 0.06108472 0.68720312 0.01527118\n",
      "  0.01527118 0.03054236 0.01527118 0.01527118 0.03054236 0.04581354\n",
      "  0.01527118 0.0763559  0.01527118 0.01527118 0.01527118 0.01527118\n",
      "  0.01527118 0.01527118 0.01527118 0.01527118 0.01527118 0.03054236\n",
      "  0.01527118 0.01527118]]\n"
     ]
    }
   ],
   "source": [
    "vectorizer = TfidfVectorizer()\n",
    "X = vectorizer.fit_transform(corpus_stemmed)\n",
    "\n",
    "print(X.toarray())"
   ]
  },
  {
   "cell_type": "code",
   "execution_count": 60,
   "id": "9fa38b03",
   "metadata": {
    "scrolled": true
   },
   "outputs": [
    {
     "name": "stdout",
     "output_type": "stream",
     "text": [
      "['004' '009' '015' '020' '029' '04' '041' '068' '10' '10000' '125' '13'\n",
      " '13000' '136' '14' '150' '20' '245' '30' '305' '500' '60' '80' 'abaiss'\n",
      " 'acced' 'acceler' 'accommod' 'accompagn' 'accroissement' 'achat'\n",
      " 'acheteur' 'acteur' 'action' 'afflux' 'agi' 'allemagn' 'allemand'\n",
      " 'americain' 'ampleur' 'an' 'anne' 'annonc' 'anormal' 'arrive'\n",
      " 'assurancev' 'atteint' 'attir' 'attis' 'augment' 'baiss' 'bancair'\n",
      " 'banqu' 'bce' 'benefic' 'bill' 'blanch' 'bon' 'boursier' 'brex' 'britann'\n",
      " 'budgetair' 'bull' 'bund' 'cadeau' 'calendri' 'campagn' 'capital' 'cas'\n",
      " 'caus' 'celebr' 'central' 'cess' 'chin' 'chut' 'cle' 'client' 'commenc'\n",
      " 'commercial' 'compar' 'compt' 'connu' 'conservent' 'consider' 'consist'\n",
      " 'consomm' 'continu' 'contrair' 'contribu' 'cot' 'cour' 'courb' 'court'\n",
      " 'cout' 'craint' 'cre' 'cred' 'cris' 'critiqu' 'croissanc' 'cycl' 'dactif'\n",
      " 'dailleur' 'dalarm' 'dang' 'danne' 'dassoupl' 'dat' 'dautr' 'decembr'\n",
      " 'decide' 'defens' 'degat' 'dem' 'demand' 'depargn' 'depass' 'dependr'\n",
      " 'depot' 'deriv' 'det' 'detat' 'deuros' 'devis' 'devoil' 'devr' 'dhistor'\n",
      " 'dimpot' 'dinflat' 'dinfrastructur' 'dinteret' 'directeur' 'disposent'\n",
      " 'dollar' 'don' 'donald' 'doubl' 'dun' 'echeanc' 'econom' 'effet' 'elev'\n",
      " 'eleve' 'emaill' 'emis' 'emprunt' 'enraye' 'ensuit' 'entam' 'entendr'\n",
      " 'enti' 'entrain' 'entrepris' 'entretiendr' 'environ' 'envoi' 'estiment'\n",
      " 'etabl' 'etat' 'etatsun' 'euro' 'europ' 'europeen' 'even' 'evolu'\n",
      " 'evoluent' 'expert' 'explos' 'export' 'extrem' 'fac' 'facteur' 'factur'\n",
      " 'faibless' 'fair' 'faveur' 'favorisent' 'fed' 'fin' 'final' 'financ'\n",
      " 'financi' 'financier' 'flamb' 'fois' 'fonction' 'fond' 'fondateur' 'form'\n",
      " 'format' 'fort' 'fourchet' 'franc' 'francais' 'frein' 'fund' 'futur'\n",
      " 'graduel' 'grand' 'gros' 'gross' 'hauss' 'haussi' 'haut' 'histor'\n",
      " 'hypothecair' 'immobili' 'impact' 'impot' 'inattendu' 'inclus' 'initial'\n",
      " 'invest' 'ital' 'italien' 'janus' 'janvi' 'japon' 'jour' 'juge' 'juillet'\n",
      " 'juin' 'jusqu' 'jusquen' 'lacc' 'ladministr' 'lafflux' 'laiss' 'lamin'\n",
      " 'lanne' 'lattent' 'lecart' 'lecheanc' 'leconom' 'leffet' 'lelect'\n",
      " 'lemploi' 'lemprunt' 'lendet' 'letat' 'lhistoir' 'lieu' 'linflat'\n",
      " 'linstabilit' 'linvers' 'linvestisseur' 'livret' 'loat' 'loffr' 'long'\n",
      " 'lourd' 'maitris' 'maledict' 'mar' 'march' 'marque' 'massiv' 'mdse'\n",
      " 'mecan' 'meilleur' 'menag' 'mesur' 'met' 'meti' 'mettront' 'milliard'\n",
      " 'mois' 'mond' 'mondial' 'mont' 'montr' 'moyen' 'multiplie' 'nanticipent'\n",
      " 'natur' 'negat' 'niveau' 'nont' 'nouvel' 'novembr' 'oblig' 'obligatair'\n",
      " 'obstacl' 'pani' 'pari' 'part' 'particuli' 'patron' 'pay' 'pension'\n",
      " 'percevoir' 'perd' 'period' 'permet' 'permettr' 'pert' 'pesent' 'pierr'\n",
      " 'pilot' 'pimco' 'plac' 'plupart' 'plusvalu' 'polit' 'port' 'portug'\n",
      " 'posit' 'poursuit' 'poursuivr' 'pouvoir' 'premier' 'prendr' 'president'\n",
      " 'pression' 'pret' 'prevoit' 'prevu' 'proch' 'prochain' 'produit' 'profil'\n",
      " 'programm' 'projet' 'prolong' 'prolonge' 'propriet' 'protection'\n",
      " 'provoque' 'public' 'quantit' 'quen' 'quun' 'raison' 'ralent' 'rapid'\n",
      " 'rappelon' 'realis' 'rebond' 'reduct' 'reduit' 'referendum' 'refinanc'\n",
      " 'reglement' 'relanc' 'relev' 'rembours' 'remont' 'remonte' 'remuner'\n",
      " 'rend' 'renforc' 'repercut' 'rest' 'retourn' 'retrait' 'revanch'\n",
      " 'revendr' 'revenus' 'risqu' 'risque' 'sappret' 'secteur' 'semain'\n",
      " 'sendettent' 'serv' 'sest' 'signal' 'sil' 'situat' 'solid' 'sonnet'\n",
      " 'souffr' 'soulign' 'soutenu' 'souverain' 'special' 'stimul' 'strateg'\n",
      " 'suiv' 'supernov' 'surpris' 'system' 'tand' 'taux' 'tbond' 'temp' 'term'\n",
      " 'terrain' 'tir' 'titr' 'tomb' 'traval' 'trump' 'turbulent'\n",
      " 'ultraaccommod' 'valeursrefug' 'vers' 'victim' 'vigour' 'voir' 'volatil'\n",
      " 'vot' 'vu' 'zero' 'zon']\n"
     ]
    }
   ],
   "source": [
    "print(vectorizer.get_feature_names_out())"
   ]
  },
  {
   "cell_type": "code",
   "execution_count": 61,
   "id": "595608d8",
   "metadata": {},
   "outputs": [
    {
     "name": "stdout",
     "output_type": "stream",
     "text": [
      "[[0.02763158 0.02763158 0.01381579 ... 0.01381579 0.01381579 0.01381579]]\n"
     ]
    }
   ],
   "source": [
    "vectorizer = TfidfVectorizer(ngram_range=(1,2)) \n",
    "X = vectorizer.fit_transform(corpus_stemmed)\n",
    "\n",
    "print(X.toarray())"
   ]
  },
  {
   "cell_type": "code",
   "execution_count": 62,
   "id": "840422b6",
   "metadata": {},
   "outputs": [
    {
     "name": "stdout",
     "output_type": "stream",
     "text": [
      "Pour chaque ligne qui correspond à un doc, je retrouve les 1062 features suivants: \n",
      "['004' '004 etatsun' '009' ... 'zero banqu' 'zon' 'zon euro']\n"
     ]
    }
   ],
   "source": [
    "print(f\"Pour chaque ligne qui correspond à un doc, je retrouve les {len(vectorizer.get_feature_names_out())} features suivants: \\n{vectorizer.get_feature_names_out()}\")"
   ]
  },
  {
   "cell_type": "code",
   "execution_count": 63,
   "id": "55b30ae7",
   "metadata": {
    "scrolled": true
   },
   "outputs": [
    {
     "name": "stdout",
     "output_type": "stream",
     "text": [
      "[[0.03054236 0.01527118 0.01527118 0.03054236 0.01527118 0.01527118\n",
      "  0.03054236 0.03054236 0.12216944 0.01527118 0.01527118 0.01527118\n",
      "  0.01527118 0.01527118 0.03054236 0.01527118 0.01527118 0.04581354\n",
      "  0.04581354 0.01527118 0.01527118 0.03054236 0.01527118 0.01527118\n",
      "  0.01527118 0.01527118 0.01527118 0.01527118 0.01527118 0.03054236\n",
      "  0.01527118 0.01527118 0.03054236 0.01527118 0.01527118 0.06108472\n",
      "  0.04581354 0.0763559  0.01527118 0.24433889 0.19852535 0.01527118\n",
      "  0.01527118 0.01527118 0.01527118 0.04581354 0.01527118 0.01527118\n",
      "  0.03054236 0.0763559  0.03054236 0.0763559  0.04581354 0.01527118\n",
      "  0.03054236 0.01527118 0.01527118 0.01527118 0.03054236 0.03054236\n",
      "  0.01527118 0.01527118 0.01527118 0.01527118 0.01527118 0.01527118\n",
      "  0.03054236 0.03054236 0.01527118 0.01527118 0.04581354 0.01527118\n",
      "  0.01527118 0.06108472 0.01527118 0.01527118 0.03054236 0.01527118\n",
      "  0.01527118 0.01527118 0.03054236 0.01527118 0.01527118 0.01527118\n",
      "  0.01527118 0.01527118 0.01527118 0.01527118 0.03054236 0.10689826\n",
      "  0.03054236 0.01527118 0.01527118 0.01527118 0.01527118 0.01527118\n",
      "  0.04581354 0.01527118 0.03054236 0.01527118 0.03054236 0.01527118\n",
      "  0.01527118 0.01527118 0.03054236 0.01527118 0.01527118 0.03054236\n",
      "  0.0763559  0.01527118 0.01527118 0.01527118 0.01527118 0.01527118\n",
      "  0.01527118 0.01527118 0.01527118 0.03054236 0.01527118 0.01527118\n",
      "  0.01527118 0.01527118 0.01527118 0.01527118 0.06108472 0.01527118\n",
      "  0.01527118 0.01527118 0.01527118 0.10689826 0.01527118 0.01527118\n",
      "  0.06108472 0.01527118 0.03054236 0.01527118 0.09162708 0.04581354\n",
      "  0.0763559  0.01527118 0.04581354 0.01527118 0.01527118 0.01527118\n",
      "  0.03054236 0.01527118 0.01527118 0.01527118 0.01527118 0.01527118\n",
      "  0.03054236 0.03054236 0.01527118 0.03054236 0.01527118 0.01527118\n",
      "  0.01527118 0.01527118 0.10689826 0.01527118 0.03054236 0.01527118\n",
      "  0.03054236 0.01527118 0.01527118 0.01527118 0.01527118 0.01527118\n",
      "  0.01527118 0.03054236 0.03054236 0.01527118 0.01527118 0.01527118\n",
      "  0.01527118 0.01527118 0.12216944 0.04581354 0.01527118 0.01527118\n",
      "  0.04581354 0.01527118 0.01527118 0.04581354 0.01527118 0.06108472\n",
      "  0.01527118 0.01527118 0.01527118 0.04581354 0.01527118 0.09162708\n",
      "  0.01527118 0.01527118 0.01527118 0.03054236 0.01527118 0.01527118\n",
      "  0.01527118 0.03054236 0.0763559  0.01527118 0.01527118 0.06108472\n",
      "  0.01527118 0.01527118 0.01527118 0.01527118 0.01527118 0.03054236\n",
      "  0.01527118 0.04581354 0.01527118 0.01527118 0.01527118 0.01527118\n",
      "  0.0763559  0.01527118 0.01527118 0.01527118 0.03054236 0.09162708\n",
      "  0.01527118 0.01527118 0.01527118 0.01527118 0.01527118 0.01527118\n",
      "  0.04581354 0.01527118 0.01527118 0.03054236 0.03054236 0.01527118\n",
      "  0.01527118 0.01527118 0.01527118 0.01527118 0.01527118 0.01527118\n",
      "  0.01527118 0.01527118 0.01527118 0.01527118 0.01527118 0.01527118\n",
      "  0.01527118 0.01527118 0.01527118 0.01527118 0.01527118 0.01527118\n",
      "  0.03054236 0.09162708 0.01527118 0.01527118 0.01527118 0.01527118\n",
      "  0.01527118 0.01527118 0.01527118 0.01527118 0.01527118 0.01527118\n",
      "  0.04581354 0.04581354 0.03054236 0.12216944 0.04581354 0.01527118\n",
      "  0.01527118 0.01527118 0.01527118 0.04581354 0.13744062 0.03054236\n",
      "  0.01527118 0.03054236 0.01527118 0.12216944 0.09162708 0.01527118\n",
      "  0.01527118 0.01527118 0.03054236 0.01527118 0.01527118 0.01527118\n",
      "  0.01527118 0.01527118 0.01527118 0.01527118 0.01527118 0.01527118\n",
      "  0.01527118 0.01527118 0.01527118 0.01527118 0.01527118 0.01527118\n",
      "  0.01527118 0.01527118 0.10689826 0.03054236 0.01527118 0.03054236\n",
      "  0.01527118 0.01527118 0.01527118 0.01527118 0.01527118 0.03054236\n",
      "  0.01527118 0.01527118 0.01527118 0.01527118 0.03054236 0.03054236\n",
      "  0.01527118 0.01527118 0.03054236 0.01527118 0.01527118 0.01527118\n",
      "  0.01527118 0.01527118 0.01527118 0.01527118 0.01527118 0.01527118\n",
      "  0.03054236 0.01527118 0.01527118 0.01527118 0.01527118 0.01527118\n",
      "  0.01527118 0.01527118 0.01527118 0.01527118 0.01527118 0.01527118\n",
      "  0.03054236 0.04581354 0.01527118 0.06108472 0.04581354 0.01527118\n",
      "  0.10689826 0.01527118 0.01527118 0.01527118 0.01527118 0.03054236\n",
      "  0.04581354 0.01527118 0.03054236 0.03054236 0.03054236 0.01527118\n",
      "  0.01527118 0.01527118 0.01527118 0.03054236 0.01527118 0.01527118\n",
      "  0.04581354 0.03054236 0.01527118 0.01527118 0.01527118 0.01527118\n",
      "  0.01527118 0.03054236 0.01527118 0.01527118 0.01527118 0.01527118\n",
      "  0.01527118 0.01527118 0.01527118 0.06108472 0.68720312 0.01527118\n",
      "  0.01527118 0.03054236 0.01527118 0.01527118 0.03054236 0.04581354\n",
      "  0.01527118 0.0763559  0.01527118 0.01527118 0.01527118 0.01527118\n",
      "  0.01527118 0.01527118 0.01527118 0.01527118 0.01527118 0.03054236\n",
      "  0.01527118 0.01527118]]\n"
     ]
    }
   ],
   "source": [
    "vectorizer = TfidfVectorizer(min_df=1, max_df=1) # vous conservez que les mots présents au moins deux fois dans le corpus\n",
    "X = vectorizer.fit_transform(corpus_stemmed)\n",
    "\n",
    "print(X.toarray()) \n"
   ]
  },
  {
   "cell_type": "code",
   "execution_count": 64,
   "id": "08d33d9e",
   "metadata": {
    "scrolled": true
   },
   "outputs": [
    {
     "name": "stdout",
     "output_type": "stream",
     "text": [
      "['004' '009' '015' '020' '029' '04' '041' '068' '10' '10000' '125' '13'\n",
      " '13000' '136' '14' '150' '20' '245' '30' '305' '500' '60' '80' 'abaiss'\n",
      " 'acced' 'acceler' 'accommod' 'accompagn' 'accroissement' 'achat'\n",
      " 'acheteur' 'acteur' 'action' 'afflux' 'agi' 'allemagn' 'allemand'\n",
      " 'americain' 'ampleur' 'an' 'anne' 'annonc' 'anormal' 'arrive'\n",
      " 'assurancev' 'atteint' 'attir' 'attis' 'augment' 'baiss' 'bancair'\n",
      " 'banqu' 'bce' 'benefic' 'bill' 'blanch' 'bon' 'boursier' 'brex' 'britann'\n",
      " 'budgetair' 'bull' 'bund' 'cadeau' 'calendri' 'campagn' 'capital' 'cas'\n",
      " 'caus' 'celebr' 'central' 'cess' 'chin' 'chut' 'cle' 'client' 'commenc'\n",
      " 'commercial' 'compar' 'compt' 'connu' 'conservent' 'consider' 'consist'\n",
      " 'consomm' 'continu' 'contrair' 'contribu' 'cot' 'cour' 'courb' 'court'\n",
      " 'cout' 'craint' 'cre' 'cred' 'cris' 'critiqu' 'croissanc' 'cycl' 'dactif'\n",
      " 'dailleur' 'dalarm' 'dang' 'danne' 'dassoupl' 'dat' 'dautr' 'decembr'\n",
      " 'decide' 'defens' 'degat' 'dem' 'demand' 'depargn' 'depass' 'dependr'\n",
      " 'depot' 'deriv' 'det' 'detat' 'deuros' 'devis' 'devoil' 'devr' 'dhistor'\n",
      " 'dimpot' 'dinflat' 'dinfrastructur' 'dinteret' 'directeur' 'disposent'\n",
      " 'dollar' 'don' 'donald' 'doubl' 'dun' 'echeanc' 'econom' 'effet' 'elev'\n",
      " 'eleve' 'emaill' 'emis' 'emprunt' 'enraye' 'ensuit' 'entam' 'entendr'\n",
      " 'enti' 'entrain' 'entrepris' 'entretiendr' 'environ' 'envoi' 'estiment'\n",
      " 'etabl' 'etat' 'etatsun' 'euro' 'europ' 'europeen' 'even' 'evolu'\n",
      " 'evoluent' 'expert' 'explos' 'export' 'extrem' 'fac' 'facteur' 'factur'\n",
      " 'faibless' 'fair' 'faveur' 'favorisent' 'fed' 'fin' 'final' 'financ'\n",
      " 'financi' 'financier' 'flamb' 'fois' 'fonction' 'fond' 'fondateur' 'form'\n",
      " 'format' 'fort' 'fourchet' 'franc' 'francais' 'frein' 'fund' 'futur'\n",
      " 'graduel' 'grand' 'gros' 'gross' 'hauss' 'haussi' 'haut' 'histor'\n",
      " 'hypothecair' 'immobili' 'impact' 'impot' 'inattendu' 'inclus' 'initial'\n",
      " 'invest' 'ital' 'italien' 'janus' 'janvi' 'japon' 'jour' 'juge' 'juillet'\n",
      " 'juin' 'jusqu' 'jusquen' 'lacc' 'ladministr' 'lafflux' 'laiss' 'lamin'\n",
      " 'lanne' 'lattent' 'lecart' 'lecheanc' 'leconom' 'leffet' 'lelect'\n",
      " 'lemploi' 'lemprunt' 'lendet' 'letat' 'lhistoir' 'lieu' 'linflat'\n",
      " 'linstabilit' 'linvers' 'linvestisseur' 'livret' 'loat' 'loffr' 'long'\n",
      " 'lourd' 'maitris' 'maledict' 'mar' 'march' 'marque' 'massiv' 'mdse'\n",
      " 'mecan' 'meilleur' 'menag' 'mesur' 'met' 'meti' 'mettront' 'milliard'\n",
      " 'mois' 'mond' 'mondial' 'mont' 'montr' 'moyen' 'multiplie' 'nanticipent'\n",
      " 'natur' 'negat' 'niveau' 'nont' 'nouvel' 'novembr' 'oblig' 'obligatair'\n",
      " 'obstacl' 'pani' 'pari' 'part' 'particuli' 'patron' 'pay' 'pension'\n",
      " 'percevoir' 'perd' 'period' 'permet' 'permettr' 'pert' 'pesent' 'pierr'\n",
      " 'pilot' 'pimco' 'plac' 'plupart' 'plusvalu' 'polit' 'port' 'portug'\n",
      " 'posit' 'poursuit' 'poursuivr' 'pouvoir' 'premier' 'prendr' 'president'\n",
      " 'pression' 'pret' 'prevoit' 'prevu' 'proch' 'prochain' 'produit' 'profil'\n",
      " 'programm' 'projet' 'prolong' 'prolonge' 'propriet' 'protection'\n",
      " 'provoque' 'public' 'quantit' 'quen' 'quun' 'raison' 'ralent' 'rapid'\n",
      " 'rappelon' 'realis' 'rebond' 'reduct' 'reduit' 'referendum' 'refinanc'\n",
      " 'reglement' 'relanc' 'relev' 'rembours' 'remont' 'remonte' 'remuner'\n",
      " 'rend' 'renforc' 'repercut' 'rest' 'retourn' 'retrait' 'revanch'\n",
      " 'revendr' 'revenus' 'risqu' 'risque' 'sappret' 'secteur' 'semain'\n",
      " 'sendettent' 'serv' 'sest' 'signal' 'sil' 'situat' 'solid' 'sonnet'\n",
      " 'souffr' 'soulign' 'soutenu' 'souverain' 'special' 'stimul' 'strateg'\n",
      " 'suiv' 'supernov' 'surpris' 'system' 'tand' 'taux' 'tbond' 'temp' 'term'\n",
      " 'terrain' 'tir' 'titr' 'tomb' 'traval' 'trump' 'turbulent'\n",
      " 'ultraaccommod' 'valeursrefug' 'vers' 'victim' 'vigour' 'voir' 'volatil'\n",
      " 'vot' 'vu' 'zero' 'zon']\n"
     ]
    }
   ],
   "source": [
    "print(vectorizer.get_feature_names_out())"
   ]
  },
  {
   "cell_type": "markdown",
   "id": "e8be4273",
   "metadata": {},
   "source": [
    "Vérification: "
   ]
  },
  {
   "cell_type": "code",
   "execution_count": 65,
   "id": "08b08c88",
   "metadata": {
    "scrolled": true
   },
   "outputs": [
    {
     "name": "stdout",
     "output_type": "stream",
     "text": [
      "defaultdict(<class 'int'>, {'march': 6, 'taux': 45, 'dinteret': 7, 'lanne': 3, 'anne': 13, 'rest': 1, 'marque': 1, 'dun': 6, 'pierr': 1, 'blanch': 1, 'serv': 2, 'oblig': 8, 'tomb': 3, 'massiv': 1, 'terrain': 1, 'negat': 9, 'even': 2, 'lhistoir': 1, 'ampleur': 1, 'mont': 3, 'depass': 1, 'fin': 3, 'danne': 2, '10000': 1, 'milliard': 3, 'dollar': 4, 'mond': 2, 'atteint': 3, '13000': 1, 'cour': 7, 'dautr': 2, 'term': 2, 'acheteur': 1, 'lieu': 1, 'percevoir': 1, 'remuner': 1, 'form': 1, 'contrair': 1, 'perd': 1, 'sil': 3, 'conservent': 1, 'titr': 2, 'jusqu': 6, 'dat': 1, 'rembours': 1, 'rend': 7, 'pari': 1, 'poursuit': 1, 'hauss': 5, 'permettr': 1, 'revendr': 1, 'plusvalu': 1, 'arrive': 1, 'echeanc': 3, 'strateg': 1, 'risque': 2, 'entrain': 2, 'lourd': 1, 'pert': 1, 'cas': 2, 'retourn': 1, 'baiss': 5, 'situat': 2, 'anormal': 1, 'provoque': 1, 'polit': 7, 'ultraaccommod': 1, 'banqu': 5, 'central': 3, 'cris': 3, 'financier': 1, 'mondial': 8, 'nont': 1, 'cess': 1, 'chut': 4, 'accompagn': 1, 'zero': 1, 'cot': 2, 'evoluent': 1, 'linvers': 1, 'flamb': 1, 'leffet': 1, 'fort': 3, 'demand': 1, 'dactif': 2, 'consider': 1, 'valeursrefug': 1, 'emis': 1, 'etat': 1, 'solid': 1, 'etatsun': 7, 'allemagn': 4, 'franc': 6, 'juge': 1, 'invest': 3, 'action': 2, 'renforc': 1, 'bce': 3, 'dassoupl': 1, 'quantit': 1, 'augment': 2, 'pression': 1, '10': 8, 'mar': 2, 'europeen': 1, 'abaiss': 1, 'depot': 2, '04': 1, 'refinanc': 1, '0': 1, 'port': 2, '60': 2, '80': 1, 'deuros': 1, 'achat': 2, 'financi': 3, 'jusquen': 1, 'obligatair': 6, 'ensuit': 1, 'reduit': 1, 'mdse': 1, 'programm': 2, 'prolong': 1, 'juin': 2, 'vot': 1, 'britann': 2, 'faveur': 1, 'brex': 2, 'acceler': 1, 'lafflux': 1, 'capital': 2, 'envoi': 1, 'niveau': 2, 'histor': 4, 'semain': 1, 'referendum': 1, 'juillet': 1, 'lemprunt': 1, 'detat': 1, 'allemand': 3, 'bund': 1, 'an': 16, 'temp': 1, '015': 1, 'tand': 4, 'japon': 5, '029': 1, 'loat': 1, 'francais': 1, '009': 1, 'tbond': 1, 'americain': 5, '136': 1, 'fac': 2, 'extrem': 1, 'critiqu': 1, 'multiplie': 1, 'attir': 1, 'lattent': 1, 'risqu': 2, 'elev': 3, 'moyen': 1, 'system': 1, 'vu': 2, 'voir': 1, 'bon': 1, 'nouvel': 2, 'leconom': 2, 'soutenu': 1, 'immobili': 1, 'emprunt': 2, 'hypothecair': 1, 'permet': 1, 'menag': 1, 'pouvoir': 1, 'acced': 1, 'propriet': 1, 'favorisent': 1, 'lacc': 1, 'cred': 1, 'entrepris': 2, 'natur': 3, 'relanc': 2, 'lemploi': 1, 'cadeau': 1, 'acteur': 1, 'econom': 5, 'sendettent': 1, 'revanch': 3, 'maledict': 1, 'revenus': 2, 'deriv': 1, 'plac': 1, 'premier': 1, 'victim': 1, 'meti': 1, 'consist': 1, 'pret': 1, 'reduct': 1, 'lecart': 1, 'long': 1, 'court': 1, 'pesent': 1, 'benefic': 1, 'etabl': 1, 'bancair': 2, 'commenc': 2, 'factur': 1, 'client': 1, 'compt': 1, 'lamin': 1, 'produit': 1, 'depargn': 1, 'livret': 1, 'assurancev': 1, 'fond': 4, 'retrait': 2, 'met': 1, 'dang': 1, 'vers': 1, 'futur': 2, 'pay': 1, 'disposent': 1, 'pension': 1, 'meilleur': 1, 'special': 1, 'bill': 2, 'gross': 2, 'tir': 1, 'sonnet': 1, 'dalarm': 1, 'format': 1, 'bull': 1, 'linvestisseur': 1, 'fondateur': 1, 'celebr': 1, 'pimco': 1, 'patron': 1, 'janus': 1, 'soulign': 1, '500': 1, 'dhistor': 1, 'connu': 2, 'compar': 1, 'supernov': 1, 'explos': 1, 'jour': 1, 'caus': 1, 'gros': 1, 'degat': 1, 'mettront': 1, 'remont': 4, 'remonte': 3, 'dailleur': 1, 'profil': 1, 'doubl': 1, 'impact': 1, 'lelect': 1, 'surpris': 1, 'donald': 2, 'trump': 5, 'president': 2, '8': 3, 'novembr': 1, 'suiv': 1, 'directeur': 1, 'fed': 8, 'decide': 1, '14': 2, 'decembr': 5, 'don': 1, 'signal': 1, 'rebond': 1, 'sest': 1, 'repercut': 1, 'enti': 1, '30': 3, '020': 2, '068': 2, '004': 2, '245': 3, 'proch': 2, 'souverain': 2, 'lecheanc': 2, 'inclus': 2, '6': 2, 'posit': 2, 'courb': 2, '041': 2, 'mois': 3, '305': 1, 'europ': 2, 'italien': 1, 'portug': 1, 'det': 1, 'zon': 1, 'euro': 1, 'linstabilit': 1, 'faibless': 1, 'secteur': 1, 'ital': 1, 'contribu': 1, 'cout': 1, 'financ': 1, 'plupart': 1, 'expert': 1, 'estiment': 1, 'enraye': 1, 'nanticipent': 1, 'rapid': 1, 'frein': 1, 'croissanc': 2, 'devr': 4, 'poursuivr': 1, 'accommod': 1, 'continu': 1, 'relev': 3, 'graduel': 1, 'ralent': 1, 'inattendu': 1, 'montr': 1, 'volatil': 1, 'prochain': 2, 'mesur': 1, 'devoil': 1, 'projet': 1, 'commercial': 1, 'prendr': 1, 'fonction': 1, '20': 1, 'janvi': 1, 'annonc': 1, 'campagn': 1, 'budgetair': 1, 'dimpot': 1, 'reglement': 1, 'protection': 1, 'cre': 1, 'environ': 2, 'dinflat': 1, 'eleve': 1, 'entretiendr': 1, 'quun': 2, 'prevoit': 1, 'impot': 1, 'particuli': 1, 'public': 1, 'defens': 1, 'grand': 1, 'traval': 1, 'dinfrastructur': 1, 'part': 2, 'stimul': 1, 'consomm': 1, 'attis': 1, 'linflat': 1, 'accroissement': 1, 'lendet': 1, 'letat': 1, 'afflux': 1, 'dem': 1, 'cle': 1, 'loffr': 1, 'fair': 1, 'mecan': 1, 'pilot': 1, 'laiss': 1, 'entendr': 1, 'sappret': 1, 'fois': 3, 'fund': 1, 'fourchet': 1, '125': 1, '150': 1, 'realis': 1, 'calendri': 1, 'dependr': 1, 'facteur': 2, 'maitris': 1, 'ladministr': 1, 'rappelon': 1, 'quen': 1, 'initial': 1, 'prevu': 1, 'raison': 1, 'emaill': 1, 'turbulent': 1, 'boursier': 1, 'craint': 1, 'chin': 1, 'final': 1, 'agi': 1, 'entam': 1, 'cycl': 1, 'haussi': 1, 'evolu': 1, 'haut': 1, '13': 1, 'pani': 1, 'devis': 1, 'obstacl': 1, 'export': 1, 'souffr': 1, 'effet': 1, 'vigour': 1, 'period': 1, 'prolonge': 1})\n"
     ]
    }
   ],
   "source": [
    "# Initialisation du dictionnaire\n",
    "freq = defaultdict(int)\n",
    "\n",
    "# Compte l'ocurrence de chaque mot du corpus\n",
    "for mot in liste_mots:\n",
    "    freq[mot] += 1\n",
    "    \n",
    "print(freq)"
   ]
  }
 ],
 "metadata": {
  "kernelspec": {
   "display_name": "Python 3",
   "language": "python",
   "name": "python3"
  },
  "language_info": {
   "codemirror_mode": {
    "name": "ipython",
    "version": 3
   },
   "file_extension": ".py",
   "mimetype": "text/x-python",
   "name": "python",
   "nbconvert_exporter": "python",
   "pygments_lexer": "ipython3",
   "version": "3.12.1"
  }
 },
 "nbformat": 4,
 "nbformat_minor": 5
}
